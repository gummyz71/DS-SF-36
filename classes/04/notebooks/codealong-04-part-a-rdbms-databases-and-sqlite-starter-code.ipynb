{
 "cells": [
  {
   "cell_type": "markdown",
   "metadata": {},
   "source": [
    "# DS-SF-36 | 04 | Databases and Scrapping | Codealong | Starter Code"
   ]
  },
  {
   "cell_type": "markdown",
   "metadata": {},
   "source": [
    "## Part A | RDBMS Databases and `SQLite`"
   ]
  },
  {
   "cell_type": "code",
   "execution_count": 1,
   "metadata": {
    "collapsed": true
   },
   "outputs": [],
   "source": [
    "import os\n",
    "\n",
    "import pandas as pd\n",
    "pd.set_option('display.max_rows', 10)\n",
    "pd.set_option('display.notebook_repr_html', True)\n",
    "pd.set_option('display.max_columns', 10)\n",
    "\n",
    "import sqlite3"
   ]
  },
  {
   "cell_type": "markdown",
   "metadata": {},
   "source": [
    "> ### How to connect to a `SQLite` database"
   ]
  },
  {
   "cell_type": "code",
   "execution_count": 2,
   "metadata": {
    "collapsed": true
   },
   "outputs": [],
   "source": [
    "db = sqlite3.connect(os.path.join('..', 'datasets', 'dataset-04-zillow.db'))"
   ]
  },
  {
   "cell_type": "code",
   "execution_count": 4,
   "metadata": {
    "collapsed": true
   },
   "outputs": [],
   "source": [
    "#\n",
    "a = \"This is a \" +\\\n",
    "    \"string\""
   ]
  },
  {
   "cell_type": "code",
   "execution_count": 6,
   "metadata": {
    "collapsed": false
   },
   "outputs": [],
   "source": [
    "#\n",
    "a = (\"This is a \" +\n",
    "    \"string\")"
   ]
  },
  {
   "cell_type": "code",
   "execution_count": 8,
   "metadata": {
    "collapsed": false
   },
   "outputs": [],
   "source": [
    "a =  \"\"\"\"\n",
    "This is one line.\n",
    "This is another\n",
    "\"\"\""
   ]
  },
  {
   "cell_type": "code",
   "execution_count": 9,
   "metadata": {
    "collapsed": false
   },
   "outputs": [
    {
     "data": {
      "text/plain": [
       "'\"\\nThis is one line.\\nThis is another\\n'"
      ]
     },
     "execution_count": 9,
     "metadata": {},
     "output_type": "execute_result"
    }
   ],
   "source": [
    "a"
   ]
  },
  {
   "cell_type": "code",
   "execution_count": null,
   "metadata": {
    "collapsed": true
   },
   "outputs": [],
   "source": []
  },
  {
   "cell_type": "markdown",
   "metadata": {},
   "source": [
    "> ### How to use `pandas` to run SQL queries and get the results as a `DataFrame`"
   ]
  },
  {
   "cell_type": "code",
   "execution_count": null,
   "metadata": {
    "collapsed": true
   },
   "outputs": [],
   "source": []
  },
  {
   "cell_type": "code",
   "execution_count": 15,
   "metadata": {
    "collapsed": false
   },
   "outputs": [],
   "source": [
    "thing = pd.io.sql.read_sql(\n",
    "'''\n",
    "SELECT *                  ---* means everything    \n",
    "    FROM properties       --- from a table, properties is a table \n",
    "    LIMIT 10              --- limit the size of data it shows\n",
    ";\n",
    "''', con = db)          # con means the connection\n"
   ]
  },
  {
   "cell_type": "code",
   "execution_count": 17,
   "metadata": {
    "collapsed": false
   },
   "outputs": [
    {
     "data": {
      "text/plain": [
       "pandas.core.frame.DataFrame"
      ]
     },
     "execution_count": 17,
     "metadata": {},
     "output_type": "execute_result"
    }
   ],
   "source": [
    "type(thing)          # means it's a dataframe"
   ]
  },
  {
   "cell_type": "code",
   "execution_count": 18,
   "metadata": {
    "collapsed": false
   },
   "outputs": [
    {
     "data": {
      "text/html": [
       "<div>\n",
       "<table border=\"1\" class=\"dataframe\">\n",
       "  <thead>\n",
       "    <tr style=\"text-align: right;\">\n",
       "      <th></th>\n",
       "      <th>id</th>\n",
       "      <th>address</th>\n",
       "      <th>latitude</th>\n",
       "      <th>longitude</th>\n",
       "      <th>is_a_studio</th>\n",
       "      <th>...</th>\n",
       "      <th>size</th>\n",
       "      <th>size_unit</th>\n",
       "      <th>lot_size</th>\n",
       "      <th>lot_size_unit</th>\n",
       "      <th>built_in_year</th>\n",
       "    </tr>\n",
       "  </thead>\n",
       "  <tbody>\n",
       "    <tr>\n",
       "      <th>0</th>\n",
       "      <td>2121978635</td>\n",
       "      <td>829 Folsom St UNIT 906, San Francisco, CA</td>\n",
       "      <td>37781429</td>\n",
       "      <td>-122401860</td>\n",
       "      <td>0</td>\n",
       "      <td>...</td>\n",
       "      <td>557.0</td>\n",
       "      <td>sqft</td>\n",
       "      <td>NaN</td>\n",
       "      <td>None</td>\n",
       "      <td>2010.0</td>\n",
       "    </tr>\n",
       "    <tr>\n",
       "      <th>1</th>\n",
       "      <td>89239580</td>\n",
       "      <td>690 Market St UNIT 1705, San Francisco, CA</td>\n",
       "      <td>37788246</td>\n",
       "      <td>-122403198</td>\n",
       "      <td>0</td>\n",
       "      <td>...</td>\n",
       "      <td>1050.0</td>\n",
       "      <td>sqft</td>\n",
       "      <td>NaN</td>\n",
       "      <td>None</td>\n",
       "      <td>2007.0</td>\n",
       "    </tr>\n",
       "  </tbody>\n",
       "</table>\n",
       "<p>2 rows × 12 columns</p>\n",
       "</div>"
      ],
      "text/plain": [
       "           id                                     address  latitude  \\\n",
       "0  2121978635   829 Folsom St UNIT 906, San Francisco, CA  37781429   \n",
       "1    89239580  690 Market St UNIT 1705, San Francisco, CA  37788246   \n",
       "\n",
       "   longitude  is_a_studio      ...          size  size_unit  lot_size  \\\n",
       "0 -122401860            0      ...         557.0       sqft       NaN   \n",
       "1 -122403198            0      ...        1050.0       sqft       NaN   \n",
       "\n",
       "  lot_size_unit  built_in_year  \n",
       "0          None         2010.0  \n",
       "1          None         2007.0  \n",
       "\n",
       "[2 rows x 12 columns]"
      ]
     },
     "execution_count": 18,
     "metadata": {},
     "output_type": "execute_result"
    }
   ],
   "source": [
    "thing.head(2)"
   ]
  },
  {
   "cell_type": "code",
   "execution_count": 19,
   "metadata": {
    "collapsed": true
   },
   "outputs": [],
   "source": [
    "thing = pd.io.sql.read_sql(\n",
    "'''\n",
    "SELECT id, size           --- here it only gets columns: id and size\n",
    "    FROM properties       --- from a table, properties is a table \n",
    "    LIMIT 10              --- limit the size of data it shows\n",
    ";\n",
    "''', con = db)          # con means the connection\n"
   ]
  },
  {
   "cell_type": "code",
   "execution_count": 20,
   "metadata": {
    "collapsed": false
   },
   "outputs": [
    {
     "data": {
      "text/html": [
       "<div>\n",
       "<table border=\"1\" class=\"dataframe\">\n",
       "  <thead>\n",
       "    <tr style=\"text-align: right;\">\n",
       "      <th></th>\n",
       "      <th>id</th>\n",
       "      <th>size</th>\n",
       "    </tr>\n",
       "  </thead>\n",
       "  <tbody>\n",
       "    <tr>\n",
       "      <th>0</th>\n",
       "      <td>2121978635</td>\n",
       "      <td>557.0</td>\n",
       "    </tr>\n",
       "    <tr>\n",
       "      <th>1</th>\n",
       "      <td>89239580</td>\n",
       "      <td>1050.0</td>\n",
       "    </tr>\n",
       "    <tr>\n",
       "      <th>2</th>\n",
       "      <td>15131782</td>\n",
       "      <td>937.0</td>\n",
       "    </tr>\n",
       "    <tr>\n",
       "      <th>3</th>\n",
       "      <td>15179502</td>\n",
       "      <td>1574.0</td>\n",
       "    </tr>\n",
       "    <tr>\n",
       "      <th>4</th>\n",
       "      <td>52266124</td>\n",
       "      <td>1205.0</td>\n",
       "    </tr>\n",
       "    <tr>\n",
       "      <th>5</th>\n",
       "      <td>2100994004</td>\n",
       "      <td>400.0</td>\n",
       "    </tr>\n",
       "    <tr>\n",
       "      <th>6</th>\n",
       "      <td>15067755</td>\n",
       "      <td>541.0</td>\n",
       "    </tr>\n",
       "    <tr>\n",
       "      <th>7</th>\n",
       "      <td>15112556</td>\n",
       "      <td>1175.0</td>\n",
       "    </tr>\n",
       "    <tr>\n",
       "      <th>8</th>\n",
       "      <td>15133321</td>\n",
       "      <td>3094.0</td>\n",
       "    </tr>\n",
       "    <tr>\n",
       "      <th>9</th>\n",
       "      <td>61288341</td>\n",
       "      <td>1405.0</td>\n",
       "    </tr>\n",
       "  </tbody>\n",
       "</table>\n",
       "</div>"
      ],
      "text/plain": [
       "           id    size\n",
       "0  2121978635   557.0\n",
       "1    89239580  1050.0\n",
       "2    15131782   937.0\n",
       "3    15179502  1574.0\n",
       "4    52266124  1205.0\n",
       "5  2100994004   400.0\n",
       "6    15067755   541.0\n",
       "7    15112556  1175.0\n",
       "8    15133321  3094.0\n",
       "9    61288341  1405.0"
      ]
     },
     "execution_count": 20,
     "metadata": {},
     "output_type": "execute_result"
    }
   ],
   "source": [
    "thing"
   ]
  },
  {
   "cell_type": "code",
   "execution_count": 21,
   "metadata": {
    "collapsed": false
   },
   "outputs": [
    {
     "data": {
      "text/html": [
       "<div>\n",
       "<table border=\"1\" class=\"dataframe\">\n",
       "  <thead>\n",
       "    <tr style=\"text-align: right;\">\n",
       "      <th></th>\n",
       "      <th>id</th>\n",
       "      <th>size_foo_bar</th>\n",
       "    </tr>\n",
       "  </thead>\n",
       "  <tbody>\n",
       "    <tr>\n",
       "      <th>0</th>\n",
       "      <td>2121978635</td>\n",
       "      <td>557.0</td>\n",
       "    </tr>\n",
       "    <tr>\n",
       "      <th>1</th>\n",
       "      <td>89239580</td>\n",
       "      <td>1050.0</td>\n",
       "    </tr>\n",
       "    <tr>\n",
       "      <th>2</th>\n",
       "      <td>15131782</td>\n",
       "      <td>937.0</td>\n",
       "    </tr>\n",
       "    <tr>\n",
       "      <th>3</th>\n",
       "      <td>15179502</td>\n",
       "      <td>1574.0</td>\n",
       "    </tr>\n",
       "    <tr>\n",
       "      <th>4</th>\n",
       "      <td>52266124</td>\n",
       "      <td>1205.0</td>\n",
       "    </tr>\n",
       "    <tr>\n",
       "      <th>5</th>\n",
       "      <td>2100994004</td>\n",
       "      <td>400.0</td>\n",
       "    </tr>\n",
       "    <tr>\n",
       "      <th>6</th>\n",
       "      <td>15067755</td>\n",
       "      <td>541.0</td>\n",
       "    </tr>\n",
       "    <tr>\n",
       "      <th>7</th>\n",
       "      <td>15112556</td>\n",
       "      <td>1175.0</td>\n",
       "    </tr>\n",
       "    <tr>\n",
       "      <th>8</th>\n",
       "      <td>15133321</td>\n",
       "      <td>3094.0</td>\n",
       "    </tr>\n",
       "    <tr>\n",
       "      <th>9</th>\n",
       "      <td>61288341</td>\n",
       "      <td>1405.0</td>\n",
       "    </tr>\n",
       "  </tbody>\n",
       "</table>\n",
       "</div>"
      ],
      "text/plain": [
       "           id  size_foo_bar\n",
       "0  2121978635         557.0\n",
       "1    89239580        1050.0\n",
       "2    15131782         937.0\n",
       "3    15179502        1574.0\n",
       "4    52266124        1205.0\n",
       "5  2100994004         400.0\n",
       "6    15067755         541.0\n",
       "7    15112556        1175.0\n",
       "8    15133321        3094.0\n",
       "9    61288341        1405.0"
      ]
     },
     "execution_count": 21,
     "metadata": {},
     "output_type": "execute_result"
    }
   ],
   "source": [
    "thing = pd.io.sql.read_sql(\n",
    "'''\n",
    "SELECT id, size AS size_foo_bar                 --- you could rename the columns to your like\n",
    "    FROM properties       --- from a table, properties is a table \n",
    "    LIMIT 10              --- limit the size of data it shows\n",
    ";\n",
    "''', con = db)          # con means the connection\n",
    "thing       \n",
    "# it is conventional that we put SQL statements in uppercase, and everything else in lowercase"
   ]
  },
  {
   "cell_type": "code",
   "execution_count": null,
   "metadata": {
    "collapsed": true
   },
   "outputs": [],
   "source": [
    "thing = pd.io.sql.read_sql(\n",
    "'''\n",
    "SELECT properties.id, properties.size AS size_foo_bar                ---specify which table to pull data\n",
    "    FROM properties       --- from a table, properties is a table \n",
    "    LIMIT 10              --- limit the size of data it shows\n",
    ";\n",
    "''', con = db)          # con means the connection\n"
   ]
  },
  {
   "cell_type": "markdown",
   "metadata": {},
   "source": [
    "### `SELECT`"
   ]
  },
  {
   "cell_type": "code",
   "execution_count": null,
   "metadata": {
    "collapsed": true
   },
   "outputs": [],
   "source": []
  },
  {
   "cell_type": "code",
   "execution_count": 22,
   "metadata": {
    "collapsed": false
   },
   "outputs": [
    {
     "data": {
      "text/html": [
       "<div>\n",
       "<table border=\"1\" class=\"dataframe\">\n",
       "  <thead>\n",
       "    <tr style=\"text-align: right;\">\n",
       "      <th></th>\n",
       "      <th>id</th>\n",
       "      <th>sale_price</th>\n",
       "      <th>sale_price_unit</th>\n",
       "    </tr>\n",
       "  </thead>\n",
       "  <tbody>\n",
       "    <tr>\n",
       "      <th>0</th>\n",
       "      <td>15165953</td>\n",
       "      <td>650000.00</td>\n",
       "      <td>$</td>\n",
       "    </tr>\n",
       "    <tr>\n",
       "      <th>1</th>\n",
       "      <td>80749447</td>\n",
       "      <td>1.15</td>\n",
       "      <td>$M</td>\n",
       "    </tr>\n",
       "    <tr>\n",
       "      <th>2</th>\n",
       "      <td>15155751</td>\n",
       "      <td>665000.00</td>\n",
       "      <td>$</td>\n",
       "    </tr>\n",
       "    <tr>\n",
       "      <th>3</th>\n",
       "      <td>15143887</td>\n",
       "      <td>2.10</td>\n",
       "      <td>$M</td>\n",
       "    </tr>\n",
       "    <tr>\n",
       "      <th>4</th>\n",
       "      <td>15117639</td>\n",
       "      <td>1.35</td>\n",
       "      <td>$M</td>\n",
       "    </tr>\n",
       "    <tr>\n",
       "      <th>...</th>\n",
       "      <td>...</td>\n",
       "      <td>...</td>\n",
       "      <td>...</td>\n",
       "    </tr>\n",
       "    <tr>\n",
       "      <th>995</th>\n",
       "      <td>69819708</td>\n",
       "      <td>731000.00</td>\n",
       "      <td>$</td>\n",
       "    </tr>\n",
       "    <tr>\n",
       "      <th>996</th>\n",
       "      <td>15076156</td>\n",
       "      <td>5.53</td>\n",
       "      <td>$M</td>\n",
       "    </tr>\n",
       "    <tr>\n",
       "      <th>997</th>\n",
       "      <td>119685619</td>\n",
       "      <td>625000.00</td>\n",
       "      <td>$</td>\n",
       "    </tr>\n",
       "    <tr>\n",
       "      <th>998</th>\n",
       "      <td>15113584</td>\n",
       "      <td>895000.00</td>\n",
       "      <td>$</td>\n",
       "    </tr>\n",
       "    <tr>\n",
       "      <th>999</th>\n",
       "      <td>15068874</td>\n",
       "      <td>650000.00</td>\n",
       "      <td>$</td>\n",
       "    </tr>\n",
       "  </tbody>\n",
       "</table>\n",
       "<p>1000 rows × 3 columns</p>\n",
       "</div>"
      ],
      "text/plain": [
       "            id  sale_price sale_price_unit\n",
       "0     15165953   650000.00               $\n",
       "1     80749447        1.15              $M\n",
       "2     15155751   665000.00               $\n",
       "3     15143887        2.10              $M\n",
       "4     15117639        1.35              $M\n",
       "..         ...         ...             ...\n",
       "995   69819708   731000.00               $\n",
       "996   15076156        5.53              $M\n",
       "997  119685619   625000.00               $\n",
       "998   15113584   895000.00               $\n",
       "999   15068874   650000.00               $\n",
       "\n",
       "[1000 rows x 3 columns]"
      ]
     },
     "execution_count": 22,
     "metadata": {},
     "output_type": "execute_result"
    }
   ],
   "source": [
    "pd.io.sql.read_sql(\n",
    "'''\n",
    "SELECT id, sale_price, sale_price_unit\n",
    "    FROM transactions\n",
    ";\n",
    "''', con = db)"
   ]
  },
  {
   "cell_type": "code",
   "execution_count": null,
   "metadata": {
    "collapsed": true
   },
   "outputs": [],
   "source": []
  },
  {
   "cell_type": "markdown",
   "metadata": {},
   "source": [
    "### `WHERE`"
   ]
  },
  {
   "cell_type": "code",
   "execution_count": 23,
   "metadata": {
    "collapsed": false
   },
   "outputs": [
    {
     "data": {
      "text/html": [
       "<div>\n",
       "<table border=\"1\" class=\"dataframe\">\n",
       "  <thead>\n",
       "    <tr style=\"text-align: right;\">\n",
       "      <th></th>\n",
       "      <th>id</th>\n",
       "      <th>sale_price</th>\n",
       "    </tr>\n",
       "  </thead>\n",
       "  <tbody>\n",
       "    <tr>\n",
       "      <th>0</th>\n",
       "      <td>80749447</td>\n",
       "      <td>1.15</td>\n",
       "    </tr>\n",
       "    <tr>\n",
       "      <th>1</th>\n",
       "      <td>15143887</td>\n",
       "      <td>2.10</td>\n",
       "    </tr>\n",
       "    <tr>\n",
       "      <th>2</th>\n",
       "      <td>15117639</td>\n",
       "      <td>1.35</td>\n",
       "    </tr>\n",
       "    <tr>\n",
       "      <th>3</th>\n",
       "      <td>80743040</td>\n",
       "      <td>1.48</td>\n",
       "    </tr>\n",
       "    <tr>\n",
       "      <th>4</th>\n",
       "      <td>15134909</td>\n",
       "      <td>1.09</td>\n",
       "    </tr>\n",
       "    <tr>\n",
       "      <th>...</th>\n",
       "      <td>...</td>\n",
       "      <td>...</td>\n",
       "    </tr>\n",
       "    <tr>\n",
       "      <th>570</th>\n",
       "      <td>2101028916</td>\n",
       "      <td>2.45</td>\n",
       "    </tr>\n",
       "    <tr>\n",
       "      <th>571</th>\n",
       "      <td>15091950</td>\n",
       "      <td>1.75</td>\n",
       "    </tr>\n",
       "    <tr>\n",
       "      <th>572</th>\n",
       "      <td>89237766</td>\n",
       "      <td>1.16</td>\n",
       "    </tr>\n",
       "    <tr>\n",
       "      <th>573</th>\n",
       "      <td>15197693</td>\n",
       "      <td>1.36</td>\n",
       "    </tr>\n",
       "    <tr>\n",
       "      <th>574</th>\n",
       "      <td>15076156</td>\n",
       "      <td>5.53</td>\n",
       "    </tr>\n",
       "  </tbody>\n",
       "</table>\n",
       "<p>575 rows × 2 columns</p>\n",
       "</div>"
      ],
      "text/plain": [
       "             id  sale_price\n",
       "0      80749447        1.15\n",
       "1      15143887        2.10\n",
       "2      15117639        1.35\n",
       "3      80743040        1.48\n",
       "4      15134909        1.09\n",
       "..          ...         ...\n",
       "570  2101028916        2.45\n",
       "571    15091950        1.75\n",
       "572    89237766        1.16\n",
       "573    15197693        1.36\n",
       "574    15076156        5.53\n",
       "\n",
       "[575 rows x 2 columns]"
      ]
     },
     "execution_count": 23,
     "metadata": {},
     "output_type": "execute_result"
    }
   ],
   "source": [
    "pd.io.sql.read_sql(\n",
    "'''\n",
    "SELECT id, sale_price\n",
    "    FROM transactions\n",
    "    WHERE sale_price_unit = '$M'      --- specify conditions for it \n",
    ";\n",
    "''', con = db)"
   ]
  },
  {
   "cell_type": "code",
   "execution_count": 24,
   "metadata": {
    "collapsed": false
   },
   "outputs": [
    {
     "data": {
      "text/html": [
       "<div>\n",
       "<table border=\"1\" class=\"dataframe\">\n",
       "  <thead>\n",
       "    <tr style=\"text-align: right;\">\n",
       "      <th></th>\n",
       "      <th>id</th>\n",
       "      <th>sale_price</th>\n",
       "    </tr>\n",
       "  </thead>\n",
       "  <tbody>\n",
       "    <tr>\n",
       "      <th>0</th>\n",
       "      <td>15165953</td>\n",
       "      <td>0.650</td>\n",
       "    </tr>\n",
       "    <tr>\n",
       "      <th>1</th>\n",
       "      <td>15155751</td>\n",
       "      <td>0.665</td>\n",
       "    </tr>\n",
       "    <tr>\n",
       "      <th>2</th>\n",
       "      <td>124852113</td>\n",
       "      <td>0.825</td>\n",
       "    </tr>\n",
       "    <tr>\n",
       "      <th>3</th>\n",
       "      <td>15124281</td>\n",
       "      <td>0.625</td>\n",
       "    </tr>\n",
       "    <tr>\n",
       "      <th>4</th>\n",
       "      <td>15071070</td>\n",
       "      <td>0.718</td>\n",
       "    </tr>\n",
       "    <tr>\n",
       "      <th>...</th>\n",
       "      <td>...</td>\n",
       "      <td>...</td>\n",
       "    </tr>\n",
       "    <tr>\n",
       "      <th>420</th>\n",
       "      <td>119685503</td>\n",
       "      <td>0.750</td>\n",
       "    </tr>\n",
       "    <tr>\n",
       "      <th>421</th>\n",
       "      <td>69819708</td>\n",
       "      <td>0.731</td>\n",
       "    </tr>\n",
       "    <tr>\n",
       "      <th>422</th>\n",
       "      <td>119685619</td>\n",
       "      <td>0.625</td>\n",
       "    </tr>\n",
       "    <tr>\n",
       "      <th>423</th>\n",
       "      <td>15113584</td>\n",
       "      <td>0.895</td>\n",
       "    </tr>\n",
       "    <tr>\n",
       "      <th>424</th>\n",
       "      <td>15068874</td>\n",
       "      <td>0.650</td>\n",
       "    </tr>\n",
       "  </tbody>\n",
       "</table>\n",
       "<p>425 rows × 2 columns</p>\n",
       "</div>"
      ],
      "text/plain": [
       "            id  sale_price\n",
       "0     15165953       0.650\n",
       "1     15155751       0.665\n",
       "2    124852113       0.825\n",
       "3     15124281       0.625\n",
       "4     15071070       0.718\n",
       "..         ...         ...\n",
       "420  119685503       0.750\n",
       "421   69819708       0.731\n",
       "422  119685619       0.625\n",
       "423   15113584       0.895\n",
       "424   15068874       0.650\n",
       "\n",
       "[425 rows x 2 columns]"
      ]
     },
     "execution_count": 24,
     "metadata": {},
     "output_type": "execute_result"
    }
   ],
   "source": [
    "pd.io.sql.read_sql(\n",
    "'''\n",
    "SELECT id, sale_price/1000000 as sale_price\n",
    "    FROM transactions\n",
    "    WHERE sale_price_unit = '$'      --- specify conditions for it \n",
    ";\n",
    "''', con = db)"
   ]
  },
  {
   "cell_type": "markdown",
   "metadata": {},
   "source": [
    "> ### Here's let's convert the unit of `sale_price` from \\$ to \\$M"
   ]
  },
  {
   "cell_type": "code",
   "execution_count": null,
   "metadata": {
    "collapsed": false
   },
   "outputs": [],
   "source": [
    "pd.io.sql.read_sql(\n",
    "'''\n",
    "SELECT id, sale_price / 1000000 AS sale_price\n",
    "    FROM transactions\n",
    "    WHERE sale_price_unit = '$'\n",
    ";\n",
    "''', con = db)"
   ]
  },
  {
   "cell_type": "markdown",
   "metadata": {},
   "source": [
    "### `UNION`"
   ]
  },
  {
   "cell_type": "markdown",
   "metadata": {},
   "source": [
    "> ### Let's combine the previous two queries into one.  `sale_price` is now in \\$M accross the dataset"
   ]
  },
  {
   "cell_type": "code",
   "execution_count": 25,
   "metadata": {
    "collapsed": false
   },
   "outputs": [
    {
     "data": {
      "text/html": [
       "<div>\n",
       "<table border=\"1\" class=\"dataframe\">\n",
       "  <thead>\n",
       "    <tr style=\"text-align: right;\">\n",
       "      <th></th>\n",
       "      <th>id</th>\n",
       "      <th>sale_price</th>\n",
       "    </tr>\n",
       "  </thead>\n",
       "  <tbody>\n",
       "    <tr>\n",
       "      <th>0</th>\n",
       "      <td>15165953</td>\n",
       "      <td>0.650</td>\n",
       "    </tr>\n",
       "    <tr>\n",
       "      <th>1</th>\n",
       "      <td>15155751</td>\n",
       "      <td>0.665</td>\n",
       "    </tr>\n",
       "    <tr>\n",
       "      <th>2</th>\n",
       "      <td>124852113</td>\n",
       "      <td>0.825</td>\n",
       "    </tr>\n",
       "    <tr>\n",
       "      <th>3</th>\n",
       "      <td>15124281</td>\n",
       "      <td>0.625</td>\n",
       "    </tr>\n",
       "    <tr>\n",
       "      <th>4</th>\n",
       "      <td>15071070</td>\n",
       "      <td>0.718</td>\n",
       "    </tr>\n",
       "    <tr>\n",
       "      <th>...</th>\n",
       "      <td>...</td>\n",
       "      <td>...</td>\n",
       "    </tr>\n",
       "    <tr>\n",
       "      <th>995</th>\n",
       "      <td>2101028916</td>\n",
       "      <td>2.450</td>\n",
       "    </tr>\n",
       "    <tr>\n",
       "      <th>996</th>\n",
       "      <td>15091950</td>\n",
       "      <td>1.750</td>\n",
       "    </tr>\n",
       "    <tr>\n",
       "      <th>997</th>\n",
       "      <td>89237766</td>\n",
       "      <td>1.160</td>\n",
       "    </tr>\n",
       "    <tr>\n",
       "      <th>998</th>\n",
       "      <td>15197693</td>\n",
       "      <td>1.360</td>\n",
       "    </tr>\n",
       "    <tr>\n",
       "      <th>999</th>\n",
       "      <td>15076156</td>\n",
       "      <td>5.530</td>\n",
       "    </tr>\n",
       "  </tbody>\n",
       "</table>\n",
       "<p>1000 rows × 2 columns</p>\n",
       "</div>"
      ],
      "text/plain": [
       "             id  sale_price\n",
       "0      15165953       0.650\n",
       "1      15155751       0.665\n",
       "2     124852113       0.825\n",
       "3      15124281       0.625\n",
       "4      15071070       0.718\n",
       "..          ...         ...\n",
       "995  2101028916       2.450\n",
       "996    15091950       1.750\n",
       "997    89237766       1.160\n",
       "998    15197693       1.360\n",
       "999    15076156       5.530\n",
       "\n",
       "[1000 rows x 2 columns]"
      ]
     },
     "execution_count": 25,
     "metadata": {},
     "output_type": "execute_result"
    }
   ],
   "source": [
    "pd.io.sql.read_sql('''\n",
    "SELECT id, sale_price / 1000000 AS sale_price\n",
    "    FROM transactions\n",
    "    WHERE sale_price_unit = '$'\n",
    "UNION ALL\n",
    "SELECT id, sale_price\n",
    "    FROM transactions\n",
    "    WHERE sale_price_unit = '$M'\n",
    ";\n",
    "''', con = db)\n",
    "# same thing we did in the last cell but in one single command"
   ]
  },
  {
   "cell_type": "markdown",
   "metadata": {},
   "source": [
    "### `WITH`"
   ]
  },
  {
   "cell_type": "code",
   "execution_count": 26,
   "metadata": {
    "collapsed": false
   },
   "outputs": [
    {
     "data": {
      "text/html": [
       "<div>\n",
       "<table border=\"1\" class=\"dataframe\">\n",
       "  <thead>\n",
       "    <tr style=\"text-align: right;\">\n",
       "      <th></th>\n",
       "      <th>id</th>\n",
       "      <th>sale_price</th>\n",
       "    </tr>\n",
       "  </thead>\n",
       "  <tbody>\n",
       "    <tr>\n",
       "      <th>0</th>\n",
       "      <td>15165953</td>\n",
       "      <td>0.650</td>\n",
       "    </tr>\n",
       "    <tr>\n",
       "      <th>1</th>\n",
       "      <td>15155751</td>\n",
       "      <td>0.665</td>\n",
       "    </tr>\n",
       "    <tr>\n",
       "      <th>2</th>\n",
       "      <td>124852113</td>\n",
       "      <td>0.825</td>\n",
       "    </tr>\n",
       "    <tr>\n",
       "      <th>3</th>\n",
       "      <td>15124281</td>\n",
       "      <td>0.625</td>\n",
       "    </tr>\n",
       "    <tr>\n",
       "      <th>4</th>\n",
       "      <td>15071070</td>\n",
       "      <td>0.718</td>\n",
       "    </tr>\n",
       "    <tr>\n",
       "      <th>...</th>\n",
       "      <td>...</td>\n",
       "      <td>...</td>\n",
       "    </tr>\n",
       "    <tr>\n",
       "      <th>995</th>\n",
       "      <td>2101028916</td>\n",
       "      <td>2.450</td>\n",
       "    </tr>\n",
       "    <tr>\n",
       "      <th>996</th>\n",
       "      <td>15091950</td>\n",
       "      <td>1.750</td>\n",
       "    </tr>\n",
       "    <tr>\n",
       "      <th>997</th>\n",
       "      <td>89237766</td>\n",
       "      <td>1.160</td>\n",
       "    </tr>\n",
       "    <tr>\n",
       "      <th>998</th>\n",
       "      <td>15197693</td>\n",
       "      <td>1.360</td>\n",
       "    </tr>\n",
       "    <tr>\n",
       "      <th>999</th>\n",
       "      <td>15076156</td>\n",
       "      <td>5.530</td>\n",
       "    </tr>\n",
       "  </tbody>\n",
       "</table>\n",
       "<p>1000 rows × 2 columns</p>\n",
       "</div>"
      ],
      "text/plain": [
       "             id  sale_price\n",
       "0      15165953       0.650\n",
       "1      15155751       0.665\n",
       "2     124852113       0.825\n",
       "3      15124281       0.625\n",
       "4      15071070       0.718\n",
       "..          ...         ...\n",
       "995  2101028916       2.450\n",
       "996    15091950       1.750\n",
       "997    89237766       1.160\n",
       "998    15197693       1.360\n",
       "999    15076156       5.530\n",
       "\n",
       "[1000 rows x 2 columns]"
      ]
     },
     "execution_count": 26,
     "metadata": {},
     "output_type": "execute_result"
    }
   ],
   "source": [
    "pd.io.sql.read_sql(\n",
    "'''\n",
    "WITH normalized_sale_prices AS\n",
    "    (SELECT id, sale_price / 1000000 AS sale_price\n",
    "        FROM transactions\n",
    "        WHERE sale_price_unit = '$'\n",
    "    UNION ALL\n",
    "    SELECT id, sale_price\n",
    "        FROM transactions\n",
    "        WHERE sale_price_unit = '$M')\n",
    "    \n",
    "    --- with created a table in memory, not an actual table in the database\n",
    "    \n",
    "SELECT *\n",
    "    FROM normalized_sale_prices\n",
    ";\n",
    "''', con = db)"
   ]
  },
  {
   "cell_type": "markdown",
   "metadata": {},
   "source": [
    "### `JOIN`"
   ]
  },
  {
   "cell_type": "code",
   "execution_count": 27,
   "metadata": {
    "collapsed": false
   },
   "outputs": [
    {
     "data": {
      "text/html": [
       "<div>\n",
       "<table border=\"1\" class=\"dataframe\">\n",
       "  <thead>\n",
       "    <tr style=\"text-align: right;\">\n",
       "      <th></th>\n",
       "      <th>baths</th>\n",
       "      <th>sale_price</th>\n",
       "    </tr>\n",
       "  </thead>\n",
       "  <tbody>\n",
       "    <tr>\n",
       "      <th>0</th>\n",
       "      <td>1.0</td>\n",
       "      <td>0.650</td>\n",
       "    </tr>\n",
       "    <tr>\n",
       "      <th>1</th>\n",
       "      <td>2.0</td>\n",
       "      <td>0.665</td>\n",
       "    </tr>\n",
       "    <tr>\n",
       "      <th>2</th>\n",
       "      <td>NaN</td>\n",
       "      <td>0.825</td>\n",
       "    </tr>\n",
       "    <tr>\n",
       "      <th>3</th>\n",
       "      <td>1.0</td>\n",
       "      <td>0.625</td>\n",
       "    </tr>\n",
       "    <tr>\n",
       "      <th>4</th>\n",
       "      <td>1.0</td>\n",
       "      <td>0.718</td>\n",
       "    </tr>\n",
       "    <tr>\n",
       "      <th>...</th>\n",
       "      <td>...</td>\n",
       "      <td>...</td>\n",
       "    </tr>\n",
       "    <tr>\n",
       "      <th>995</th>\n",
       "      <td>3.0</td>\n",
       "      <td>2.450</td>\n",
       "    </tr>\n",
       "    <tr>\n",
       "      <th>996</th>\n",
       "      <td>NaN</td>\n",
       "      <td>1.750</td>\n",
       "    </tr>\n",
       "    <tr>\n",
       "      <th>997</th>\n",
       "      <td>2.5</td>\n",
       "      <td>1.160</td>\n",
       "    </tr>\n",
       "    <tr>\n",
       "      <th>998</th>\n",
       "      <td>2.0</td>\n",
       "      <td>1.360</td>\n",
       "    </tr>\n",
       "    <tr>\n",
       "      <th>999</th>\n",
       "      <td>7.5</td>\n",
       "      <td>5.530</td>\n",
       "    </tr>\n",
       "  </tbody>\n",
       "</table>\n",
       "<p>1000 rows × 2 columns</p>\n",
       "</div>"
      ],
      "text/plain": [
       "     baths  sale_price\n",
       "0      1.0       0.650\n",
       "1      2.0       0.665\n",
       "2      NaN       0.825\n",
       "3      1.0       0.625\n",
       "4      1.0       0.718\n",
       "..     ...         ...\n",
       "995    3.0       2.450\n",
       "996    NaN       1.750\n",
       "997    2.5       1.160\n",
       "998    2.0       1.360\n",
       "999    7.5       5.530\n",
       "\n",
       "[1000 rows x 2 columns]"
      ]
     },
     "execution_count": 27,
     "metadata": {},
     "output_type": "execute_result"
    }
   ],
   "source": [
    "pd.io.sql.read_sql(\n",
    "'''\n",
    "WITH normalized_sale_prices AS\n",
    "    (SELECT id, sale_price / 1000000 AS sale_price\n",
    "        FROM transactions\n",
    "        WHERE sale_price_unit = '$'\n",
    "    UNION ALL\n",
    "    SELECT id, sale_price\n",
    "        FROM transactions\n",
    "        WHERE sale_price_unit = '$M')\n",
    "\n",
    "SELECT properties.baths AS baths, normalized_sale_prices.sale_price AS sale_price\n",
    "    FROM properties\n",
    "    JOIN normalized_sale_prices\n",
    "        ON normalized_sale_prices.id = properties.id                 ---specify how it should be linked\n",
    ";\n",
    "''', con = db)\n",
    "\n",
    "\n",
    "\n",
    "# difference between union and join \n",
    "# union is going to stack one on the other\n",
    "# join is going to link the two together by the link you specify"
   ]
  },
  {
   "cell_type": "markdown",
   "metadata": {},
   "source": [
    "### `WITH` (take 2)"
   ]
  },
  {
   "cell_type": "code",
   "execution_count": 28,
   "metadata": {
    "collapsed": false
   },
   "outputs": [
    {
     "data": {
      "text/html": [
       "<div>\n",
       "<table border=\"1\" class=\"dataframe\">\n",
       "  <thead>\n",
       "    <tr style=\"text-align: right;\">\n",
       "      <th></th>\n",
       "      <th>baths</th>\n",
       "      <th>sale_price</th>\n",
       "    </tr>\n",
       "  </thead>\n",
       "  <tbody>\n",
       "    <tr>\n",
       "      <th>0</th>\n",
       "      <td>1.0</td>\n",
       "      <td>0.650</td>\n",
       "    </tr>\n",
       "    <tr>\n",
       "      <th>1</th>\n",
       "      <td>2.0</td>\n",
       "      <td>0.665</td>\n",
       "    </tr>\n",
       "    <tr>\n",
       "      <th>2</th>\n",
       "      <td>NaN</td>\n",
       "      <td>0.825</td>\n",
       "    </tr>\n",
       "    <tr>\n",
       "      <th>3</th>\n",
       "      <td>1.0</td>\n",
       "      <td>0.625</td>\n",
       "    </tr>\n",
       "    <tr>\n",
       "      <th>4</th>\n",
       "      <td>1.0</td>\n",
       "      <td>0.718</td>\n",
       "    </tr>\n",
       "    <tr>\n",
       "      <th>...</th>\n",
       "      <td>...</td>\n",
       "      <td>...</td>\n",
       "    </tr>\n",
       "    <tr>\n",
       "      <th>995</th>\n",
       "      <td>3.0</td>\n",
       "      <td>2.450</td>\n",
       "    </tr>\n",
       "    <tr>\n",
       "      <th>996</th>\n",
       "      <td>NaN</td>\n",
       "      <td>1.750</td>\n",
       "    </tr>\n",
       "    <tr>\n",
       "      <th>997</th>\n",
       "      <td>2.5</td>\n",
       "      <td>1.160</td>\n",
       "    </tr>\n",
       "    <tr>\n",
       "      <th>998</th>\n",
       "      <td>2.0</td>\n",
       "      <td>1.360</td>\n",
       "    </tr>\n",
       "    <tr>\n",
       "      <th>999</th>\n",
       "      <td>7.5</td>\n",
       "      <td>5.530</td>\n",
       "    </tr>\n",
       "  </tbody>\n",
       "</table>\n",
       "<p>1000 rows × 2 columns</p>\n",
       "</div>"
      ],
      "text/plain": [
       "     baths  sale_price\n",
       "0      1.0       0.650\n",
       "1      2.0       0.665\n",
       "2      NaN       0.825\n",
       "3      1.0       0.625\n",
       "4      1.0       0.718\n",
       "..     ...         ...\n",
       "995    3.0       2.450\n",
       "996    NaN       1.750\n",
       "997    2.5       1.160\n",
       "998    2.0       1.360\n",
       "999    7.5       5.530\n",
       "\n",
       "[1000 rows x 2 columns]"
      ]
     },
     "execution_count": 28,
     "metadata": {},
     "output_type": "execute_result"
    }
   ],
   "source": [
    "pd.io.sql.read_sql(\n",
    "'''\n",
    "WITH normalized_sale_prices AS\n",
    "    (SELECT id, sale_price / 1000000 AS sale_price\n",
    "        FROM transactions\n",
    "        WHERE sale_price_unit = '$'\n",
    "    UNION ALL\n",
    "    SELECT id, sale_price\n",
    "        FROM transactions\n",
    "        WHERE sale_price_unit = '$M'),\n",
    "\n",
    "baths_normalized_sale_prices AS\n",
    "    (SELECT properties.baths AS baths, normalized_sale_prices.sale_price AS sale_price\n",
    "        FROM properties\n",
    "        JOIN normalized_sale_prices\n",
    "            ON normalized_sale_prices.id = properties.id)\n",
    "\n",
    "SELECT *\n",
    "    FROM baths_normalized_sale_prices\n",
    ";\n",
    "''', con = db)"
   ]
  },
  {
   "cell_type": "markdown",
   "metadata": {},
   "source": [
    "### `GROUP BY` and `COUNT`"
   ]
  },
  {
   "cell_type": "markdown",
   "metadata": {},
   "source": [
    "> ### Let's compute the number of properties based on their number of bedrooms"
   ]
  },
  {
   "cell_type": "code",
   "execution_count": 29,
   "metadata": {
    "collapsed": false
   },
   "outputs": [
    {
     "data": {
      "text/html": [
       "<div>\n",
       "<table border=\"1\" class=\"dataframe\">\n",
       "  <thead>\n",
       "    <tr style=\"text-align: right;\">\n",
       "      <th></th>\n",
       "      <th>count</th>\n",
       "    </tr>\n",
       "  </thead>\n",
       "  <tbody>\n",
       "    <tr>\n",
       "      <th>0</th>\n",
       "      <td>164</td>\n",
       "    </tr>\n",
       "    <tr>\n",
       "      <th>1</th>\n",
       "      <td>142</td>\n",
       "    </tr>\n",
       "    <tr>\n",
       "      <th>2</th>\n",
       "      <td>316</td>\n",
       "    </tr>\n",
       "    <tr>\n",
       "      <th>3</th>\n",
       "      <td>226</td>\n",
       "    </tr>\n",
       "    <tr>\n",
       "      <th>4</th>\n",
       "      <td>103</td>\n",
       "    </tr>\n",
       "    <tr>\n",
       "      <th>5</th>\n",
       "      <td>28</td>\n",
       "    </tr>\n",
       "    <tr>\n",
       "      <th>6</th>\n",
       "      <td>9</td>\n",
       "    </tr>\n",
       "    <tr>\n",
       "      <th>7</th>\n",
       "      <td>6</td>\n",
       "    </tr>\n",
       "    <tr>\n",
       "      <th>8</th>\n",
       "      <td>3</td>\n",
       "    </tr>\n",
       "    <tr>\n",
       "      <th>9</th>\n",
       "      <td>3</td>\n",
       "    </tr>\n",
       "  </tbody>\n",
       "</table>\n",
       "</div>"
      ],
      "text/plain": [
       "   count\n",
       "0    164\n",
       "1    142\n",
       "2    316\n",
       "3    226\n",
       "4    103\n",
       "5     28\n",
       "6      9\n",
       "7      6\n",
       "8      3\n",
       "9      3"
      ]
     },
     "execution_count": 29,
     "metadata": {},
     "output_type": "execute_result"
    }
   ],
   "source": [
    "pd.io.sql.read_sql(\n",
    "'''\n",
    "SELECT COUNT() AS count\n",
    "    FROM properties\n",
    "    GROUP BY beds\n",
    ";\n",
    "''', con = db)"
   ]
  },
  {
   "cell_type": "markdown",
   "metadata": {},
   "source": [
    "### `GROUP BY` and `AVG`"
   ]
  },
  {
   "cell_type": "markdown",
   "metadata": {},
   "source": [
    "> ### Let's now compute the average sale price of these properties based on their number of bathrooms"
   ]
  },
  {
   "cell_type": "code",
   "execution_count": 31,
   "metadata": {
    "collapsed": false
   },
   "outputs": [
    {
     "data": {
      "text/html": [
       "<div>\n",
       "<table border=\"1\" class=\"dataframe\">\n",
       "  <thead>\n",
       "    <tr style=\"text-align: right;\">\n",
       "      <th></th>\n",
       "      <th>baths</th>\n",
       "      <th>mean_sale_price</th>\n",
       "    </tr>\n",
       "  </thead>\n",
       "  <tbody>\n",
       "    <tr>\n",
       "      <th>0</th>\n",
       "      <td>NaN</td>\n",
       "      <td>1.739026</td>\n",
       "    </tr>\n",
       "    <tr>\n",
       "      <th>1</th>\n",
       "      <td>1.00</td>\n",
       "      <td>0.987656</td>\n",
       "    </tr>\n",
       "    <tr>\n",
       "      <th>2</th>\n",
       "      <td>1.10</td>\n",
       "      <td>1.420000</td>\n",
       "    </tr>\n",
       "    <tr>\n",
       "      <th>3</th>\n",
       "      <td>1.25</td>\n",
       "      <td>1.600000</td>\n",
       "    </tr>\n",
       "    <tr>\n",
       "      <th>4</th>\n",
       "      <td>1.50</td>\n",
       "      <td>1.223378</td>\n",
       "    </tr>\n",
       "    <tr>\n",
       "      <th>...</th>\n",
       "      <td>...</td>\n",
       "      <td>...</td>\n",
       "    </tr>\n",
       "    <tr>\n",
       "      <th>16</th>\n",
       "      <td>6.50</td>\n",
       "      <td>16.000000</td>\n",
       "    </tr>\n",
       "    <tr>\n",
       "      <th>17</th>\n",
       "      <td>7.00</td>\n",
       "      <td>0.999000</td>\n",
       "    </tr>\n",
       "    <tr>\n",
       "      <th>18</th>\n",
       "      <td>7.50</td>\n",
       "      <td>5.530000</td>\n",
       "    </tr>\n",
       "    <tr>\n",
       "      <th>19</th>\n",
       "      <td>8.00</td>\n",
       "      <td>13.100000</td>\n",
       "    </tr>\n",
       "    <tr>\n",
       "      <th>20</th>\n",
       "      <td>14.00</td>\n",
       "      <td>1.000000</td>\n",
       "    </tr>\n",
       "  </tbody>\n",
       "</table>\n",
       "<p>21 rows × 2 columns</p>\n",
       "</div>"
      ],
      "text/plain": [
       "    baths  mean_sale_price\n",
       "0     NaN         1.739026\n",
       "1    1.00         0.987656\n",
       "2    1.10         1.420000\n",
       "3    1.25         1.600000\n",
       "4    1.50         1.223378\n",
       "..    ...              ...\n",
       "16   6.50        16.000000\n",
       "17   7.00         0.999000\n",
       "18   7.50         5.530000\n",
       "19   8.00        13.100000\n",
       "20  14.00         1.000000\n",
       "\n",
       "[21 rows x 2 columns]"
      ]
     },
     "execution_count": 31,
     "metadata": {},
     "output_type": "execute_result"
    }
   ],
   "source": [
    "pd.io.sql.read_sql(\n",
    "'''\n",
    "WITH normalized_sale_prices AS\n",
    "    (SELECT id, sale_price / 1000000 AS sale_price\n",
    "        FROM transactions\n",
    "        WHERE sale_price_unit = '$'\n",
    "    UNION ALL\n",
    "    SELECT id, sale_price\n",
    "        FROM transactions\n",
    "        WHERE sale_price_unit = '$M'),\n",
    "\n",
    "baths_normalized_sale_prices AS\n",
    "    (SELECT properties.baths AS baths, normalized_sale_prices.sale_price AS sale_price\n",
    "        FROM properties\n",
    "        JOIN normalized_sale_prices\n",
    "            ON normalized_sale_prices.id = properties.id)\n",
    "\n",
    "SELECT baths, AVG(sale_price) AS mean_sale_price\n",
    "    FROM baths_normalized_sale_prices\n",
    "    GROUP BY baths\n",
    ";\n",
    "''', con = db)"
   ]
  },
  {
   "cell_type": "markdown",
   "metadata": {},
   "source": [
    "Note: `baths = 0` usually refers to studios but not always..."
   ]
  },
  {
   "cell_type": "markdown",
   "metadata": {},
   "source": [
    "> ### Activity\n",
    "> #### Compute the average sales price of studios"
   ]
  },
  {
   "cell_type": "code",
   "execution_count": 34,
   "metadata": {
    "collapsed": false
   },
   "outputs": [
    {
     "data": {
      "text/html": [
       "<div>\n",
       "<table border=\"1\" class=\"dataframe\">\n",
       "  <thead>\n",
       "    <tr style=\"text-align: right;\">\n",
       "      <th></th>\n",
       "      <th>baths</th>\n",
       "      <th>mean_sale_price</th>\n",
       "    </tr>\n",
       "  </thead>\n",
       "  <tbody>\n",
       "    <tr>\n",
       "      <th>0</th>\n",
       "      <td>1.0</td>\n",
       "      <td>0.987656</td>\n",
       "    </tr>\n",
       "  </tbody>\n",
       "</table>\n",
       "</div>"
      ],
      "text/plain": [
       "   baths  mean_sale_price\n",
       "0    1.0         0.987656"
      ]
     },
     "execution_count": 34,
     "metadata": {},
     "output_type": "execute_result"
    }
   ],
   "source": [
    "pd.io.sql.read_sql(\n",
    "'''\n",
    "WITH normalized_sale_prices AS\n",
    "    (SELECT id, sale_price / 1000000 AS sale_price\n",
    "        FROM transactions\n",
    "        WHERE sale_price_unit = '$'\n",
    "    UNION ALL\n",
    "    SELECT id, sale_price\n",
    "        FROM transactions\n",
    "        WHERE sale_price_unit = '$M'),\n",
    "\n",
    "baths_normalized_sale_prices AS\n",
    "    (SELECT properties.baths AS baths, normalized_sale_prices.sale_price AS sale_price\n",
    "        FROM properties\n",
    "        JOIN normalized_sale_prices\n",
    "            ON normalized_sale_prices.id = properties.id)\n",
    "\n",
    "SELECT baths, AVG(sale_price) AS mean_sale_price\n",
    "    FROM baths_normalized_sale_prices\n",
    "    WHERE baths = \"1\"\n",
    "    GROUP BY baths\n",
    "    \n",
    ";\n",
    "''', con = db)"
   ]
  },
  {
   "cell_type": "markdown",
   "metadata": {},
   "source": [
    "> ### Activity\n",
    "> #### Find the properties in the dataset that have different addresses but the same latitude/longitude.  Return the smallest set of pair of properties (`address_a`, `address_b`)"
   ]
  },
  {
   "cell_type": "code",
   "execution_count": 45,
   "metadata": {
    "collapsed": false
   },
   "outputs": [
    {
     "data": {
      "text/html": [
       "<div>\n",
       "<table border=\"1\" class=\"dataframe\">\n",
       "  <thead>\n",
       "    <tr style=\"text-align: right;\">\n",
       "      <th></th>\n",
       "      <th>id_a</th>\n",
       "      <th>id_b</th>\n",
       "      <th>address_a</th>\n",
       "      <th>address_b</th>\n",
       "    </tr>\n",
       "  </thead>\n",
       "  <tbody>\n",
       "    <tr>\n",
       "      <th>0</th>\n",
       "      <td>52266124</td>\n",
       "      <td>53153575</td>\n",
       "      <td>88 King St APT 317, San Francisco, CA</td>\n",
       "      <td>88 King St APT 419, San Francisco, CA</td>\n",
       "    </tr>\n",
       "    <tr>\n",
       "      <th>1</th>\n",
       "      <td>119685526</td>\n",
       "      <td>119685188</td>\n",
       "      <td>1902 Filbert St, San Francisco, CA</td>\n",
       "      <td>1902A Filbert St, San Francisco, CA</td>\n",
       "    </tr>\n",
       "    <tr>\n",
       "      <th>2</th>\n",
       "      <td>79846666</td>\n",
       "      <td>79844263</td>\n",
       "      <td>555 4th St UNIT 513, San Francisco, CA</td>\n",
       "      <td>555 4th St, San Francisco, CA</td>\n",
       "    </tr>\n",
       "    <tr>\n",
       "      <th>3</th>\n",
       "      <td>61288494</td>\n",
       "      <td>61325457</td>\n",
       "      <td>400 Alemany Blvd APT 12, San Francisco, CA</td>\n",
       "      <td>400 Alemany Blvd APT 15, San Francisco, CA</td>\n",
       "    </tr>\n",
       "    <tr>\n",
       "      <th>4</th>\n",
       "      <td>89239837</td>\n",
       "      <td>89238065</td>\n",
       "      <td>338 Spear St UNIT 10B, San Francisco, CA</td>\n",
       "      <td>338 Spear St UNIT 5J, San Francisco, CA</td>\n",
       "    </tr>\n",
       "    <tr>\n",
       "      <th>...</th>\n",
       "      <td>...</td>\n",
       "      <td>...</td>\n",
       "      <td>...</td>\n",
       "      <td>...</td>\n",
       "    </tr>\n",
       "    <tr>\n",
       "      <th>102</th>\n",
       "      <td>115828655</td>\n",
       "      <td>115828679</td>\n",
       "      <td>480 Mission Bay Blvd N UNIT 614, San Francisco...</td>\n",
       "      <td>480 Mission Bay Blvd N UNIT 809, San Francisco...</td>\n",
       "    </tr>\n",
       "    <tr>\n",
       "      <th>103</th>\n",
       "      <td>15067890</td>\n",
       "      <td>15067896</td>\n",
       "      <td>1250 Jones St APT 503, San Francisco, CA</td>\n",
       "      <td>1250 Jones St APT 802, San Francisco, CA</td>\n",
       "    </tr>\n",
       "    <tr>\n",
       "      <th>104</th>\n",
       "      <td>111931130</td>\n",
       "      <td>111930969</td>\n",
       "      <td>860 Waller St APT 1, San Francisco, CA</td>\n",
       "      <td>860 Waller St APT 2, San Francisco, CA</td>\n",
       "    </tr>\n",
       "    <tr>\n",
       "      <th>105</th>\n",
       "      <td>60825591</td>\n",
       "      <td>61288454</td>\n",
       "      <td>77 Dow Pl APT 500, San Francisco, CA</td>\n",
       "      <td>77 Dow Pl APT 507, San Francisco, CA</td>\n",
       "    </tr>\n",
       "    <tr>\n",
       "      <th>106</th>\n",
       "      <td>63197318</td>\n",
       "      <td>63197354</td>\n",
       "      <td>765 Market St APT 27B, San Francisco, CA</td>\n",
       "      <td>765 Market St APT 31H, San Francisco, CA</td>\n",
       "    </tr>\n",
       "  </tbody>\n",
       "</table>\n",
       "<p>107 rows × 4 columns</p>\n",
       "</div>"
      ],
      "text/plain": [
       "          id_a       id_b                                          address_a  \\\n",
       "0     52266124   53153575              88 King St APT 317, San Francisco, CA   \n",
       "1    119685526  119685188                 1902 Filbert St, San Francisco, CA   \n",
       "2     79846666   79844263             555 4th St UNIT 513, San Francisco, CA   \n",
       "3     61288494   61325457         400 Alemany Blvd APT 12, San Francisco, CA   \n",
       "4     89239837   89238065           338 Spear St UNIT 10B, San Francisco, CA   \n",
       "..         ...        ...                                                ...   \n",
       "102  115828655  115828679  480 Mission Bay Blvd N UNIT 614, San Francisco...   \n",
       "103   15067890   15067896           1250 Jones St APT 503, San Francisco, CA   \n",
       "104  111931130  111930969             860 Waller St APT 1, San Francisco, CA   \n",
       "105   60825591   61288454               77 Dow Pl APT 500, San Francisco, CA   \n",
       "106   63197318   63197354           765 Market St APT 27B, San Francisco, CA   \n",
       "\n",
       "                                             address_b  \n",
       "0                88 King St APT 419, San Francisco, CA  \n",
       "1                  1902A Filbert St, San Francisco, CA  \n",
       "2                        555 4th St, San Francisco, CA  \n",
       "3           400 Alemany Blvd APT 15, San Francisco, CA  \n",
       "4              338 Spear St UNIT 5J, San Francisco, CA  \n",
       "..                                                 ...  \n",
       "102  480 Mission Bay Blvd N UNIT 809, San Francisco...  \n",
       "103           1250 Jones St APT 802, San Francisco, CA  \n",
       "104             860 Waller St APT 2, San Francisco, CA  \n",
       "105               77 Dow Pl APT 507, San Francisco, CA  \n",
       "106           765 Market St APT 31H, San Francisco, CA  \n",
       "\n",
       "[107 rows x 4 columns]"
      ]
     },
     "execution_count": 45,
     "metadata": {},
     "output_type": "execute_result"
    }
   ],
   "source": [
    "pd.io.sql.read_sql(\n",
    "'''\n",
    "\n",
    "SELECT a.id AS id_a, b.id AS id_b, a.address AS address_a, b.address AS address_b\n",
    "    FROM properties AS a\n",
    "    JOIN properties AS b ON b.latitude = a.latitude AND b.longitude = a.longitude\n",
    "    WHERE a.address < b.address\n",
    ";\n",
    "''', con = db)"
   ]
  },
  {
   "cell_type": "code",
   "execution_count": 69,
   "metadata": {
    "collapsed": false
   },
   "outputs": [
    {
     "data": {
      "text/html": [
       "<div>\n",
       "<table border=\"1\" class=\"dataframe\">\n",
       "  <thead>\n",
       "    <tr style=\"text-align: right;\">\n",
       "      <th></th>\n",
       "      <th>location</th>\n",
       "      <th>address</th>\n",
       "    </tr>\n",
       "  </thead>\n",
       "  <tbody>\n",
       "    <tr>\n",
       "      <th>0</th>\n",
       "      <td>37710480 -122467645</td>\n",
       "      <td>8400 Oceanview Ter APT 218, San Francisco, CA</td>\n",
       "    </tr>\n",
       "    <tr>\n",
       "      <th>1</th>\n",
       "      <td>37725337 -122399307</td>\n",
       "      <td>5800 3rd St UNIT 1401, San Francisco, CA</td>\n",
       "    </tr>\n",
       "    <tr>\n",
       "      <th>2</th>\n",
       "      <td>37733174 -122414551</td>\n",
       "      <td>400 Alemany Blvd APT 15, San Francisco, CA</td>\n",
       "    </tr>\n",
       "    <tr>\n",
       "      <th>3</th>\n",
       "      <td>37742141 -122435111</td>\n",
       "      <td>1915 Diamond St, San Francisco, CA</td>\n",
       "    </tr>\n",
       "    <tr>\n",
       "      <th>4</th>\n",
       "      <td>37758487 -122412814</td>\n",
       "      <td>2412 Harrison St APT 104, San Francisco, CA</td>\n",
       "    </tr>\n",
       "    <tr>\n",
       "      <th>...</th>\n",
       "      <td>...</td>\n",
       "      <td>...</td>\n",
       "    </tr>\n",
       "    <tr>\n",
       "      <th>53</th>\n",
       "      <td>37798792 -122416797</td>\n",
       "      <td>1070 Green St APT 1402, San Francisco, CA</td>\n",
       "    </tr>\n",
       "    <tr>\n",
       "      <th>54</th>\n",
       "      <td>37798831 -122431053</td>\n",
       "      <td>1902A Filbert St, San Francisco, CA</td>\n",
       "    </tr>\n",
       "    <tr>\n",
       "      <th>55</th>\n",
       "      <td>37800573 -122424849</td>\n",
       "      <td>2701 Van Ness Ave APT 207, San Francisco, CA</td>\n",
       "    </tr>\n",
       "    <tr>\n",
       "      <th>56</th>\n",
       "      <td>37804240 -122405509</td>\n",
       "      <td>111 Chestnut St APT 403, San Francisco, CA</td>\n",
       "    </tr>\n",
       "    <tr>\n",
       "      <th>57</th>\n",
       "      <td>37804334 -122412450</td>\n",
       "      <td>445 Francisco St APT 304, San Francisco, CA</td>\n",
       "    </tr>\n",
       "  </tbody>\n",
       "</table>\n",
       "<p>58 rows × 2 columns</p>\n",
       "</div>"
      ],
      "text/plain": [
       "               location                                        address\n",
       "0   37710480 -122467645  8400 Oceanview Ter APT 218, San Francisco, CA\n",
       "1   37725337 -122399307       5800 3rd St UNIT 1401, San Francisco, CA\n",
       "2   37733174 -122414551     400 Alemany Blvd APT 15, San Francisco, CA\n",
       "3   37742141 -122435111             1915 Diamond St, San Francisco, CA\n",
       "4   37758487 -122412814    2412 Harrison St APT 104, San Francisco, CA\n",
       "..                  ...                                            ...\n",
       "53  37798792 -122416797      1070 Green St APT 1402, San Francisco, CA\n",
       "54  37798831 -122431053            1902A Filbert St, San Francisco, CA\n",
       "55  37800573 -122424849   2701 Van Ness Ave APT 207, San Francisco, CA\n",
       "56  37804240 -122405509     111 Chestnut St APT 403, San Francisco, CA\n",
       "57  37804334 -122412450    445 Francisco St APT 304, San Francisco, CA\n",
       "\n",
       "[58 rows x 2 columns]"
      ]
     },
     "execution_count": 69,
     "metadata": {},
     "output_type": "execute_result"
    }
   ],
   "source": [
    "pd.io.sql.read_sql(\n",
    "'''\n",
    "\n",
    "SELECT (latitude || ' ' || longitude) AS location, address\n",
    "    FROM properties\n",
    "    GROUP BY location\n",
    "    HAVING COUNT(location)>1\n",
    "    ORDER BY location\n",
    ";\n",
    "''', con = db)"
   ]
  },
  {
   "cell_type": "code",
   "execution_count": null,
   "metadata": {
    "collapsed": true
   },
   "outputs": [],
   "source": []
  }
 ],
 "metadata": {
  "kernelspec": {
   "display_name": "Python 3",
   "language": "python",
   "name": "python3"
  },
  "language_info": {
   "codemirror_mode": {
    "name": "ipython",
    "version": 3
   },
   "file_extension": ".py",
   "mimetype": "text/x-python",
   "name": "python",
   "nbconvert_exporter": "python",
   "pygments_lexer": "ipython3",
   "version": "3.6.0"
  }
 },
 "nbformat": 4,
 "nbformat_minor": 0
}
