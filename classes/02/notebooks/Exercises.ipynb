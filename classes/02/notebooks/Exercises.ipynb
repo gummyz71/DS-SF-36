{
 "cells": [
  {
   "cell_type": "markdown",
   "metadata": {},
   "source": [
    "#### Exercise 1\n",
    "\n",
    "Create a function for the rock, paper, and scissors game. The function should have two arguments: user1's move and user2's move. The function should compare the two moves and output which move wins or if it results in a tie.\n",
    "\n",
    "Remember: Paper > Rock, Rock > Scissors, Scissors > Paper.\n",
    "\n",
    "\n",
    "Example:\n",
    "\n",
    "function(\"rock\", \"paper\")\n",
    "\n",
    "-> \"Paper wins\"\n",
    "\n",
    "function(\"scissors\", \"scissors\")\n",
    "\n",
    "-> \"Tie\""
   ]
  },
  {
   "cell_type": "code",
   "execution_count": 4,
   "metadata": {},
   "outputs": [
    {
     "name": "stdout",
     "output_type": "stream",
     "text": [
      "Paper wins\n"
     ]
    }
   ],
   "source": [
    "def rps(player1, player2):\n",
    "    if [player1,player2] == [\"rock\",\"paper\"]:\n",
    "        rps = \"Paper wins\"\n",
    "    elif [player1, player2] == [\"paper\",\"scissors\"]:\n",
    "        rps = \"Scissors win\"\n",
    "    elif [player1, player2] == [\"scissor\",\"rock\"]:\n",
    "        rps = \"Rock wins\"\n",
    "    return rps\n",
    "\n",
    "print(rps(\"rock\",\"paper\"))"
   ]
  },
  {
   "cell_type": "markdown",
   "metadata": {},
   "source": [
    "#### Exercise 2\n",
    "Write a function that takes a long string containing multiple words. Print the same string, except with the words in backwards order. For example, say I type the string:\n",
    "\n",
    "      -\"My name is Michele\"\n",
    "  \n",
    "Then I would get the string:\n",
    "\n",
    "      -\"Michele is name My\"\n",
    "\n",
    "\n"
   ]
  },
  {
   "cell_type": "code",
   "execution_count": 9,
   "metadata": {},
   "outputs": [
    {
     "name": "stdout",
     "output_type": "stream",
     "text": [
      "Michele is name My\n"
     ]
    }
   ],
   "source": [
    "def reverse(inSentence):\n",
    "    reversedSentence = \"\"\n",
    "    inList = inSentence.split()\n",
    "    for i in range(0,len(inList)-1):\n",
    "        reversedSentence += inList[-i-1] + \" \"\n",
    "    reversedSentence += inList[0]\n",
    "    return reversedSentence\n",
    "\n",
    "print(reverse(\"My name is Michele\"))"
   ]
  },
  {
   "cell_type": "markdown",
   "metadata": {},
   "source": [
    "#### Exercise 3\n",
    "\n",
    "Write a function that takes a list and returns a new list that contains all the elements of the first list minus all the duplicates.\n",
    "\n",
    "Input: [2,3,4,4,5,5,5,6,6] \n",
    "\n",
    "Output: [2,3,4,5,6]"
   ]
  },
  {
   "cell_type": "code",
   "execution_count": 31,
   "metadata": {},
   "outputs": [
    {
     "name": "stdout",
     "output_type": "stream",
     "text": [
      "[2, 3, 4, 5, 6]\n"
     ]
    }
   ],
   "source": [
    "def deleteDuplicates(inList):\n",
    "    outList = inList[0:0]\n",
    "    for item in inList:\n",
    "        if item not in outList:\n",
    "            outList.append(item)\n",
    "    return outList\n",
    "\n",
    "print(deleteDuplicates([2,3,4,4,5,5,5,6,6]))"
   ]
  },
  {
   "cell_type": "markdown",
   "metadata": {},
   "source": [
    "#### Exercise 4\n",
    "Given a list of integers, return the integers that can be divided by other integers in that list.\n",
    "\n",
    "Input: [6,8,3,2,4,5,10]\n",
    "\n",
    "Output: [6,8,4,10]"
   ]
  },
  {
   "cell_type": "code",
   "execution_count": 46,
   "metadata": {},
   "outputs": [
    {
     "name": "stdout",
     "output_type": "stream",
     "text": [
      "[6, 8, 4, 10]\n"
     ]
    }
   ],
   "source": [
    "def deleteQuotians(inList):\n",
    "    outList = []\n",
    "    \n",
    "    for i in range(0,len(inList)):\n",
    "        for j in range(0,len(inList)):\n",
    "            if (inList[i] % inList[j] == 0) and (inList[i] not in outList) and (i != j):\n",
    "                outList.append(inList[i])\n",
    "    return outList\n",
    "print(deleteQuotians([6,8,3,2,4,5,10]))\n",
    "    "
   ]
  },
  {
   "cell_type": "markdown",
   "metadata": {},
   "source": [
    "#### Exercise 5\n",
    "Create an anagram detection function. This function will take in a list of strings and returns the strings that have anagrams in that list.\n",
    "\n",
    "Input: ['bat', 'rats', 'god', 'dog', 'cat', 'arts', 'star']\n",
    "\n",
    "Output: ['rats', 'god', 'dog', 'arts', 'star'] "
   ]
  },
  {
   "cell_type": "code",
   "execution_count": 55,
   "metadata": {},
   "outputs": [
    {
     "name": "stdout",
     "output_type": "stream",
     "text": [
      "['rats', 'arts', 'star', 'god', 'dog']\n"
     ]
    }
   ],
   "source": [
    "def anagrams(inList):\n",
    "    outList = []\n",
    "    \n",
    "    for i in range(0,len(inList)):\n",
    "        isAnagram = True\n",
    "        for j in range(i+1,len(inList)):\n",
    "            if len(inList[i]) == len(inList[j]):\n",
    "                for letter in inList[i]:\n",
    "                    isAnagram = isAnagram and (letter in inList[j])\n",
    "                for letter in inList[j]:\n",
    "                    isAnagram = isAnagram and (letter in inList[i])\n",
    "                if isAnagram:\n",
    "                    outList.append(inList[i])\n",
    "                    outList.append(inList[j])\n",
    "    outList = deleteDuplicates(outList)\n",
    "        \n",
    "    return outList\n",
    "print(anagrams(['bat', 'rats', 'god', 'dog', 'cat', 'arts', 'star']))\n"
   ]
  },
  {
   "cell_type": "markdown",
   "metadata": {},
   "source": [
    "#### Exercise 6\n",
    "\n",
    "Create a function that calculates the sums of each integer value in a number.\n",
    "\n",
    "Input: 1234\n",
    "\n",
    "Output: 1 + 2 + 3 + 4 =10"
   ]
  },
  {
   "cell_type": "markdown",
   "metadata": {},
   "source": [
    "#### <b>What to do if you're finished</b>\n",
    "\n",
    "Try to do some Python exercises on the following websites:\n",
    "\n",
    "-http://www.practicepython.org/    \n",
    "    \n",
    "-https://github.com/zhiwehu/Python-programming-exercises\n",
    "\n",
    "-https://projecteuler.net/archives\n",
    "\n",
    "-https://www.quora.com/Where-can-I-find-basic-python-practice-problems\n",
    "\n",
    "-http://codingbat.com/python\n",
    "\n",
    "-http://exercism.io/languages/python/exercises"
   ]
  },
  {
   "cell_type": "code",
   "execution_count": 65,
   "metadata": {},
   "outputs": [
    {
     "name": "stdout",
     "output_type": "stream",
     "text": [
      "15.0\n"
     ]
    }
   ],
   "source": [
    "def sumDigit(inInt):\n",
    "    digits = 0\n",
    "    sumDigit = 0\n",
    "    digit = 0\n",
    "    while 10 ** digits < inInt:\n",
    "        digits += 1\n",
    "    for i in range(1,digits):\n",
    "        digit = inInt % 10\n",
    "        sumDigit += digit\n",
    "        inInt = (inInt - digit)/10\n",
    "    \n",
    "    return sumDigit + inInt\n",
    "print(sumDigit(12345))"
   ]
  },
  {
   "cell_type": "code",
   "execution_count": null,
   "metadata": {
    "collapsed": true
   },
   "outputs": [],
   "source": []
  }
 ],
 "metadata": {
  "kernelspec": {
   "display_name": "Python 3",
   "language": "python",
   "name": "python3"
  },
  "language_info": {
   "codemirror_mode": {
    "name": "ipython",
    "version": 3
   },
   "file_extension": ".py",
   "mimetype": "text/x-python",
   "name": "python",
   "nbconvert_exporter": "python",
   "pygments_lexer": "ipython3",
   "version": "3.6.1"
  }
 },
 "nbformat": 4,
 "nbformat_minor": 2
}
