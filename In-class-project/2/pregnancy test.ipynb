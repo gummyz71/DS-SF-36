{
 "cells": [
  {
   "cell_type": "code",
   "execution_count": 53,
   "metadata": {
    "collapsed": true
   },
   "outputs": [],
   "source": [
    "import os\n",
    "\n",
    "import numpy as np\n",
    "\n",
    "import pandas as pd\n",
    "\n",
    "pd.set_option('display.max_rows', 20)\n",
    "pd.set_option('display.notebook_repr_html', True)\n",
    "pd.set_option('display.max_columns', 10)\n",
    "\n",
    "\n",
    "df = pd.read_csv('C:/Users/amiao/Documents/GA/DS-SF-36/In-class-project/2/practice.csv')"
   ]
  },
  {
   "cell_type": "code",
   "execution_count": 58,
   "metadata": {},
   "outputs": [
    {
     "data": {
      "text/html": [
       "<div>\n",
       "<table border=\"1\" class=\"dataframe\">\n",
       "  <thead>\n",
       "    <tr style=\"text-align: right;\">\n",
       "      <th></th>\n",
       "      <th>AccountHolderImpliedGender</th>\n",
       "      <th>AccountHolderAddress</th>\n",
       "      <th>RecentlyPurchasedPregnancyTest</th>\n",
       "      <th>RecentlyPurchasedBirthControl</th>\n",
       "      <th>RecentlyPurchasedFeminineHygieneProducts</th>\n",
       "      <th>...</th>\n",
       "      <th>RecentlyPurchasedSmokingCessationProducts</th>\n",
       "      <th>PurchasedWineRegularlyUntilRecentlyThenStopped</th>\n",
       "      <th>RecentlyPurchasedWine</th>\n",
       "      <th>RecentlyPurchasedMaternityClothing</th>\n",
       "      <th>IsPregnant</th>\n",
       "    </tr>\n",
       "  </thead>\n",
       "  <tbody>\n",
       "    <tr>\n",
       "      <th>0</th>\n",
       "      <td>Female</td>\n",
       "      <td>Home</td>\n",
       "      <td>False</td>\n",
       "      <td>False</td>\n",
       "      <td>NaN</td>\n",
       "      <td>...</td>\n",
       "      <td>False</td>\n",
       "      <td>True</td>\n",
       "      <td>False</td>\n",
       "      <td>False</td>\n",
       "      <td>True</td>\n",
       "    </tr>\n",
       "    <tr>\n",
       "      <th>1</th>\n",
       "      <td>Female</td>\n",
       "      <td>PO Box</td>\n",
       "      <td>False</td>\n",
       "      <td>False</td>\n",
       "      <td>False</td>\n",
       "      <td>...</td>\n",
       "      <td>False</td>\n",
       "      <td>False</td>\n",
       "      <td>False</td>\n",
       "      <td>False</td>\n",
       "      <td>True</td>\n",
       "    </tr>\n",
       "    <tr>\n",
       "      <th>4</th>\n",
       "      <td>Female</td>\n",
       "      <td>PO Box</td>\n",
       "      <td>False</td>\n",
       "      <td>False</td>\n",
       "      <td>False</td>\n",
       "      <td>...</td>\n",
       "      <td>False</td>\n",
       "      <td>False</td>\n",
       "      <td>False</td>\n",
       "      <td>False</td>\n",
       "      <td>False</td>\n",
       "    </tr>\n",
       "    <tr>\n",
       "      <th>5</th>\n",
       "      <td>Female</td>\n",
       "      <td>Home</td>\n",
       "      <td>False</td>\n",
       "      <td>True</td>\n",
       "      <td>False</td>\n",
       "      <td>...</td>\n",
       "      <td>False</td>\n",
       "      <td>False</td>\n",
       "      <td>False</td>\n",
       "      <td>False</td>\n",
       "      <td>False</td>\n",
       "    </tr>\n",
       "    <tr>\n",
       "      <th>8</th>\n",
       "      <td>Female</td>\n",
       "      <td>Apartment</td>\n",
       "      <td>True</td>\n",
       "      <td>False</td>\n",
       "      <td>False</td>\n",
       "      <td>...</td>\n",
       "      <td>False</td>\n",
       "      <td>False</td>\n",
       "      <td>False</td>\n",
       "      <td>False</td>\n",
       "      <td>True</td>\n",
       "    </tr>\n",
       "  </tbody>\n",
       "</table>\n",
       "<p>5 rows × 18 columns</p>\n",
       "</div>"
      ],
      "text/plain": [
       "  AccountHolderImpliedGender AccountHolderAddress  \\\n",
       "0                     Female                 Home   \n",
       "1                     Female               PO Box   \n",
       "4                     Female               PO Box   \n",
       "5                     Female                 Home   \n",
       "8                     Female            Apartment   \n",
       "\n",
       "  RecentlyPurchasedPregnancyTest RecentlyPurchasedBirthControl  \\\n",
       "0                          False                         False   \n",
       "1                          False                         False   \n",
       "4                          False                         False   \n",
       "5                          False                          True   \n",
       "8                           True                         False   \n",
       "\n",
       "  RecentlyPurchasedFeminineHygieneProducts    ...      \\\n",
       "0                                      NaN    ...       \n",
       "1                                    False    ...       \n",
       "4                                    False    ...       \n",
       "5                                    False    ...       \n",
       "8                                    False    ...       \n",
       "\n",
       "  RecentlyPurchasedSmokingCessationProducts  \\\n",
       "0                                     False   \n",
       "1                                     False   \n",
       "4                                     False   \n",
       "5                                     False   \n",
       "8                                     False   \n",
       "\n",
       "  PurchasedWineRegularlyUntilRecentlyThenStopped RecentlyPurchasedWine  \\\n",
       "0                                           True                 False   \n",
       "1                                          False                 False   \n",
       "4                                          False                 False   \n",
       "5                                          False                 False   \n",
       "8                                          False                 False   \n",
       "\n",
       "  RecentlyPurchasedMaternityClothing IsPregnant  \n",
       "0                              False       True  \n",
       "1                              False       True  \n",
       "4                              False      False  \n",
       "5                              False      False  \n",
       "8                              False       True  \n",
       "\n",
       "[5 rows x 18 columns]"
      ]
     },
     "execution_count": 58,
     "metadata": {},
     "output_type": "execute_result"
    }
   ],
   "source": [
    "df = df[df.AccountHolderImpliedGender == \"Female\"]\n",
    "df.head()"
   ]
  },
  {
   "cell_type": "code",
   "execution_count": 59,
   "metadata": {},
   "outputs": [],
   "source": [
    "df = df.drop(['AccountHolderImpliedGender',\"AccountHolderAddress\"], 1)"
   ]
  },
  {
   "cell_type": "code",
   "execution_count": 60,
   "metadata": {},
   "outputs": [],
   "source": [
    "df = df*1"
   ]
  },
  {
   "cell_type": "code",
   "execution_count": 148,
   "metadata": {},
   "outputs": [
    {
     "data": {
      "text/html": [
       "<div>\n",
       "<table border=\"1\" class=\"dataframe\">\n",
       "  <thead>\n",
       "    <tr style=\"text-align: right;\">\n",
       "      <th>RecentlyPurchasedPregnancyTest</th>\n",
       "      <th>0</th>\n",
       "      <th>1</th>\n",
       "    </tr>\n",
       "    <tr>\n",
       "      <th>IsPregnant</th>\n",
       "      <th></th>\n",
       "      <th></th>\n",
       "    </tr>\n",
       "  </thead>\n",
       "  <tbody>\n",
       "    <tr>\n",
       "      <th>0</th>\n",
       "      <td>112</td>\n",
       "      <td>1</td>\n",
       "    </tr>\n",
       "    <tr>\n",
       "      <th>1</th>\n",
       "      <td>122</td>\n",
       "      <td>19</td>\n",
       "    </tr>\n",
       "  </tbody>\n",
       "</table>\n",
       "</div>"
      ],
      "text/plain": [
       "RecentlyPurchasedPregnancyTest    0   1\n",
       "IsPregnant                             \n",
       "0                               112   1\n",
       "1                               122  19"
      ]
     },
     "execution_count": 148,
     "metadata": {},
     "output_type": "execute_result"
    }
   ],
   "source": [
    "pd.crosstab(df['IsPregnant'], df['RecentlyPurchasedPregnancyTest'], rownames=['IsPregnant'])"
   ]
  },
  {
   "cell_type": "code",
   "execution_count": 47,
   "metadata": {
    "collapsed": true
   },
   "outputs": [],
   "source": [
    "import statsmodels.api as sm\n",
    "import pylab as pl"
   ]
  },
  {
   "cell_type": "code",
   "execution_count": 73,
   "metadata": {},
   "outputs": [],
   "source": [
    "df = df.dropna(axis=0, how='any')"
   ]
  },
  {
   "cell_type": "code",
   "execution_count": 77,
   "metadata": {},
   "outputs": [],
   "source": [
    "df = df.astype(int)"
   ]
  },
  {
   "cell_type": "code",
   "execution_count": 78,
   "metadata": {},
   "outputs": [
    {
     "data": {
      "text/html": [
       "<div>\n",
       "<table border=\"1\" class=\"dataframe\">\n",
       "  <thead>\n",
       "    <tr style=\"text-align: right;\">\n",
       "      <th></th>\n",
       "      <th>RecentlyPurchasedPregnancyTest</th>\n",
       "      <th>RecentlyPurchasedBirthControl</th>\n",
       "      <th>RecentlyPurchasedFeminineHygieneProducts</th>\n",
       "      <th>RecentlyPurchasedFolicAcidSupplements</th>\n",
       "      <th>RecentlyPurchasedPrenatalVitamins</th>\n",
       "      <th>...</th>\n",
       "      <th>RecentlyPurchasedSmokingCessationProducts</th>\n",
       "      <th>PurchasedWineRegularlyUntilRecentlyThenStopped</th>\n",
       "      <th>RecentlyPurchasedWine</th>\n",
       "      <th>RecentlyPurchasedMaternityClothing</th>\n",
       "      <th>IsPregnant</th>\n",
       "    </tr>\n",
       "  </thead>\n",
       "  <tbody>\n",
       "    <tr>\n",
       "      <th>count</th>\n",
       "      <td>254.000000</td>\n",
       "      <td>254.000000</td>\n",
       "      <td>254.000000</td>\n",
       "      <td>254.000000</td>\n",
       "      <td>254.000000</td>\n",
       "      <td>...</td>\n",
       "      <td>254.000000</td>\n",
       "      <td>254.000000</td>\n",
       "      <td>254.000000</td>\n",
       "      <td>254.000000</td>\n",
       "      <td>254.000000</td>\n",
       "    </tr>\n",
       "    <tr>\n",
       "      <th>mean</th>\n",
       "      <td>0.078740</td>\n",
       "      <td>0.102362</td>\n",
       "      <td>0.145669</td>\n",
       "      <td>0.102362</td>\n",
       "      <td>0.145669</td>\n",
       "      <td>...</td>\n",
       "      <td>0.082677</td>\n",
       "      <td>0.133858</td>\n",
       "      <td>0.098425</td>\n",
       "      <td>0.157480</td>\n",
       "      <td>0.555118</td>\n",
       "    </tr>\n",
       "    <tr>\n",
       "      <th>std</th>\n",
       "      <td>0.269865</td>\n",
       "      <td>0.303723</td>\n",
       "      <td>0.353471</td>\n",
       "      <td>0.303723</td>\n",
       "      <td>0.353471</td>\n",
       "      <td>...</td>\n",
       "      <td>0.275937</td>\n",
       "      <td>0.341172</td>\n",
       "      <td>0.298477</td>\n",
       "      <td>0.364972</td>\n",
       "      <td>0.497934</td>\n",
       "    </tr>\n",
       "    <tr>\n",
       "      <th>min</th>\n",
       "      <td>0.000000</td>\n",
       "      <td>0.000000</td>\n",
       "      <td>0.000000</td>\n",
       "      <td>0.000000</td>\n",
       "      <td>0.000000</td>\n",
       "      <td>...</td>\n",
       "      <td>0.000000</td>\n",
       "      <td>0.000000</td>\n",
       "      <td>0.000000</td>\n",
       "      <td>0.000000</td>\n",
       "      <td>0.000000</td>\n",
       "    </tr>\n",
       "    <tr>\n",
       "      <th>25%</th>\n",
       "      <td>0.000000</td>\n",
       "      <td>0.000000</td>\n",
       "      <td>0.000000</td>\n",
       "      <td>0.000000</td>\n",
       "      <td>0.000000</td>\n",
       "      <td>...</td>\n",
       "      <td>0.000000</td>\n",
       "      <td>0.000000</td>\n",
       "      <td>0.000000</td>\n",
       "      <td>0.000000</td>\n",
       "      <td>0.000000</td>\n",
       "    </tr>\n",
       "    <tr>\n",
       "      <th>50%</th>\n",
       "      <td>0.000000</td>\n",
       "      <td>0.000000</td>\n",
       "      <td>0.000000</td>\n",
       "      <td>0.000000</td>\n",
       "      <td>0.000000</td>\n",
       "      <td>...</td>\n",
       "      <td>0.000000</td>\n",
       "      <td>0.000000</td>\n",
       "      <td>0.000000</td>\n",
       "      <td>0.000000</td>\n",
       "      <td>1.000000</td>\n",
       "    </tr>\n",
       "    <tr>\n",
       "      <th>75%</th>\n",
       "      <td>0.000000</td>\n",
       "      <td>0.000000</td>\n",
       "      <td>0.000000</td>\n",
       "      <td>0.000000</td>\n",
       "      <td>0.000000</td>\n",
       "      <td>...</td>\n",
       "      <td>0.000000</td>\n",
       "      <td>0.000000</td>\n",
       "      <td>0.000000</td>\n",
       "      <td>0.000000</td>\n",
       "      <td>1.000000</td>\n",
       "    </tr>\n",
       "    <tr>\n",
       "      <th>max</th>\n",
       "      <td>1.000000</td>\n",
       "      <td>1.000000</td>\n",
       "      <td>1.000000</td>\n",
       "      <td>1.000000</td>\n",
       "      <td>1.000000</td>\n",
       "      <td>...</td>\n",
       "      <td>1.000000</td>\n",
       "      <td>1.000000</td>\n",
       "      <td>1.000000</td>\n",
       "      <td>1.000000</td>\n",
       "      <td>1.000000</td>\n",
       "    </tr>\n",
       "  </tbody>\n",
       "</table>\n",
       "<p>8 rows × 16 columns</p>\n",
       "</div>"
      ],
      "text/plain": [
       "       RecentlyPurchasedPregnancyTest  RecentlyPurchasedBirthControl  \\\n",
       "count                      254.000000                     254.000000   \n",
       "mean                         0.078740                       0.102362   \n",
       "std                          0.269865                       0.303723   \n",
       "min                          0.000000                       0.000000   \n",
       "25%                          0.000000                       0.000000   \n",
       "50%                          0.000000                       0.000000   \n",
       "75%                          0.000000                       0.000000   \n",
       "max                          1.000000                       1.000000   \n",
       "\n",
       "       RecentlyPurchasedFeminineHygieneProducts  \\\n",
       "count                                254.000000   \n",
       "mean                                   0.145669   \n",
       "std                                    0.353471   \n",
       "min                                    0.000000   \n",
       "25%                                    0.000000   \n",
       "50%                                    0.000000   \n",
       "75%                                    0.000000   \n",
       "max                                    1.000000   \n",
       "\n",
       "       RecentlyPurchasedFolicAcidSupplements  \\\n",
       "count                             254.000000   \n",
       "mean                                0.102362   \n",
       "std                                 0.303723   \n",
       "min                                 0.000000   \n",
       "25%                                 0.000000   \n",
       "50%                                 0.000000   \n",
       "75%                                 0.000000   \n",
       "max                                 1.000000   \n",
       "\n",
       "       RecentlyPurchasedPrenatalVitamins     ...      \\\n",
       "count                         254.000000     ...       \n",
       "mean                            0.145669     ...       \n",
       "std                             0.353471     ...       \n",
       "min                             0.000000     ...       \n",
       "25%                             0.000000     ...       \n",
       "50%                             0.000000     ...       \n",
       "75%                             0.000000     ...       \n",
       "max                             1.000000     ...       \n",
       "\n",
       "       RecentlyPurchasedSmokingCessationProducts  \\\n",
       "count                                 254.000000   \n",
       "mean                                    0.082677   \n",
       "std                                     0.275937   \n",
       "min                                     0.000000   \n",
       "25%                                     0.000000   \n",
       "50%                                     0.000000   \n",
       "75%                                     0.000000   \n",
       "max                                     1.000000   \n",
       "\n",
       "       PurchasedWineRegularlyUntilRecentlyThenStopped  RecentlyPurchasedWine  \\\n",
       "count                                      254.000000             254.000000   \n",
       "mean                                         0.133858               0.098425   \n",
       "std                                          0.341172               0.298477   \n",
       "min                                          0.000000               0.000000   \n",
       "25%                                          0.000000               0.000000   \n",
       "50%                                          0.000000               0.000000   \n",
       "75%                                          0.000000               0.000000   \n",
       "max                                          1.000000               1.000000   \n",
       "\n",
       "       RecentlyPurchasedMaternityClothing  IsPregnant  \n",
       "count                          254.000000  254.000000  \n",
       "mean                             0.157480    0.555118  \n",
       "std                              0.364972    0.497934  \n",
       "min                              0.000000    0.000000  \n",
       "25%                              0.000000    0.000000  \n",
       "50%                              0.000000    1.000000  \n",
       "75%                              0.000000    1.000000  \n",
       "max                              1.000000    1.000000  \n",
       "\n",
       "[8 rows x 16 columns]"
      ]
     },
     "execution_count": 78,
     "metadata": {},
     "output_type": "execute_result"
    }
   ],
   "source": [
    "df.describe()"
   ]
  },
  {
   "cell_type": "code",
   "execution_count": 91,
   "metadata": {},
   "outputs": [],
   "source": [
    "logit = sm.Logit(df['IsPregnant'], df[df.columns[:-1]])"
   ]
  },
  {
   "cell_type": "code",
   "execution_count": 92,
   "metadata": {},
   "outputs": [
    {
     "name": "stdout",
     "output_type": "stream",
     "text": [
      "Warning: Maximum number of iterations has been exceeded.\n",
      "         Current function value: 0.306482\n",
      "         Iterations: 35\n"
     ]
    },
    {
     "name": "stderr",
     "output_type": "stream",
     "text": [
      "C:\\Users\\amiao\\Anaconda3\\lib\\site-packages\\statsmodels\\base\\model.py:466: ConvergenceWarning: Maximum Likelihood optimization failed to converge. Check mle_retvals\n",
      "  \"Check mle_retvals\", ConvergenceWarning)\n"
     ]
    }
   ],
   "source": [
    "result = logit.fit()"
   ]
  },
  {
   "cell_type": "code",
   "execution_count": 93,
   "metadata": {},
   "outputs": [
    {
     "data": {
      "text/html": [
       "<table class=\"simpletable\">\n",
       "<caption>Logit Regression Results</caption>\n",
       "<tr>\n",
       "  <th>Dep. Variable:</th>    <td>IsPregnant</td>    <th>  No. Observations:  </th>  <td>   254</td>  \n",
       "</tr>\n",
       "<tr>\n",
       "  <th>Model:</th>               <td>Logit</td>      <th>  Df Residuals:      </th>  <td>   239</td>  \n",
       "</tr>\n",
       "<tr>\n",
       "  <th>Method:</th>               <td>MLE</td>       <th>  Df Model:          </th>  <td>    14</td>  \n",
       "</tr>\n",
       "<tr>\n",
       "  <th>Date:</th>          <td>Mon, 07 Aug 2017</td> <th>  Pseudo R-squ.:     </th>  <td>0.5539</td>  \n",
       "</tr>\n",
       "<tr>\n",
       "  <th>Time:</th>              <td>20:26:04</td>     <th>  Log-Likelihood:    </th> <td> -77.847</td> \n",
       "</tr>\n",
       "<tr>\n",
       "  <th>converged:</th>           <td>False</td>      <th>  LL-Null:           </th> <td> -174.51</td> \n",
       "</tr>\n",
       "<tr>\n",
       "  <th> </th>                      <td> </td>        <th>  LLR p-value:       </th> <td>1.259e-33</td>\n",
       "</tr>\n",
       "</table>\n",
       "<table class=\"simpletable\">\n",
       "<tr>\n",
       "                            <td></td>                              <th>coef</th>     <th>std err</th>      <th>z</th>      <th>P>|z|</th> <th>[95.0% Conf. Int.]</th> \n",
       "</tr>\n",
       "<tr>\n",
       "  <th>RecentlyPurchasedPregnancyTest</th>                       <td>    3.2245</td> <td>    1.541</td> <td>    2.092</td> <td> 0.036</td> <td>    0.204     6.245</td>\n",
       "</tr>\n",
       "<tr>\n",
       "  <th>RecentlyPurchasedBirthControl</th>                        <td>   -3.2966</td> <td>    0.965</td> <td>   -3.417</td> <td> 0.001</td> <td>   -5.188    -1.406</td>\n",
       "</tr>\n",
       "<tr>\n",
       "  <th>RecentlyPurchasedFeminineHygieneProducts</th>             <td>   -2.6649</td> <td>    0.759</td> <td>   -3.510</td> <td> 0.000</td> <td>   -4.153    -1.177</td>\n",
       "</tr>\n",
       "<tr>\n",
       "  <th>RecentlyPurchasedFolicAcidSupplements</th>                <td>   23.4006</td> <td> 4.02e+04</td> <td>    0.001</td> <td> 1.000</td> <td>-7.88e+04  7.89e+04</td>\n",
       "</tr>\n",
       "<tr>\n",
       "  <th>RecentlyPurchasedPrenatalVitamins</th>                    <td>    2.5001</td> <td>    0.816</td> <td>    3.065</td> <td> 0.002</td> <td>    0.901     4.099</td>\n",
       "</tr>\n",
       "<tr>\n",
       "  <th>RecentlyPurchasedPrenatalYogaDVD</th>                     <td>   26.4347</td> <td> 8.16e+05</td> <td> 3.24e-05</td> <td> 1.000</td> <td> -1.6e+06   1.6e+06</td>\n",
       "</tr>\n",
       "<tr>\n",
       "  <th>RecentlyPurchasedBodyPillow</th>                          <td>    1.8122</td> <td>    1.843</td> <td>    0.983</td> <td> 0.325</td> <td>   -1.800     5.424</td>\n",
       "</tr>\n",
       "<tr>\n",
       "  <th>RecentlyPurchasedGingerAle</th>                           <td>    4.1742</td> <td>    2.403</td> <td>    1.737</td> <td> 0.082</td> <td>   -0.536     8.884</td>\n",
       "</tr>\n",
       "<tr>\n",
       "  <th>RecentlyPurchasedSeaBands</th>                            <td>    0.2624</td> <td>    1.286</td> <td>    0.204</td> <td> 0.838</td> <td>   -2.257     2.782</td>\n",
       "</tr>\n",
       "<tr>\n",
       "  <th>PurchasedCigarettesRegularlyUntilRecentlyThenStopped</th> <td>    2.7897</td> <td>    1.564</td> <td>    1.784</td> <td> 0.074</td> <td>   -0.275     5.854</td>\n",
       "</tr>\n",
       "<tr>\n",
       "  <th>RecentlyPurchasedCigarettes</th>                          <td>   -2.3201</td> <td>    0.880</td> <td>   -2.636</td> <td> 0.008</td> <td>   -4.045    -0.595</td>\n",
       "</tr>\n",
       "<tr>\n",
       "  <th>RecentlyPurchasedSmokingCessationProducts</th>            <td>    2.5043</td> <td>    1.123</td> <td>    2.231</td> <td> 0.026</td> <td>    0.304     4.704</td>\n",
       "</tr>\n",
       "<tr>\n",
       "  <th>PurchasedWineRegularlyUntilRecentlyThenStopped</th>       <td>    1.2571</td> <td>    0.682</td> <td>    1.842</td> <td> 0.065</td> <td>   -0.080     2.594</td>\n",
       "</tr>\n",
       "<tr>\n",
       "  <th>RecentlyPurchasedWine</th>                                <td>   -3.6804</td> <td>    1.402</td> <td>   -2.625</td> <td> 0.009</td> <td>   -6.428    -0.933</td>\n",
       "</tr>\n",
       "<tr>\n",
       "  <th>RecentlyPurchasedMaternityClothing</th>                   <td>    2.5621</td> <td>    0.749</td> <td>    3.420</td> <td> 0.001</td> <td>    1.094     4.030</td>\n",
       "</tr>\n",
       "</table>"
      ],
      "text/plain": [
       "<class 'statsmodels.iolib.summary.Summary'>\n",
       "\"\"\"\n",
       "                           Logit Regression Results                           \n",
       "==============================================================================\n",
       "Dep. Variable:             IsPregnant   No. Observations:                  254\n",
       "Model:                          Logit   Df Residuals:                      239\n",
       "Method:                           MLE   Df Model:                           14\n",
       "Date:                Mon, 07 Aug 2017   Pseudo R-squ.:                  0.5539\n",
       "Time:                        20:26:04   Log-Likelihood:                -77.847\n",
       "converged:                      False   LL-Null:                       -174.51\n",
       "                                        LLR p-value:                 1.259e-33\n",
       "========================================================================================================================\n",
       "                                                           coef    std err          z      P>|z|      [95.0% Conf. Int.]\n",
       "------------------------------------------------------------------------------------------------------------------------\n",
       "RecentlyPurchasedPregnancyTest                           3.2245      1.541      2.092      0.036         0.204     6.245\n",
       "RecentlyPurchasedBirthControl                           -3.2966      0.965     -3.417      0.001        -5.188    -1.406\n",
       "RecentlyPurchasedFeminineHygieneProducts                -2.6649      0.759     -3.510      0.000        -4.153    -1.177\n",
       "RecentlyPurchasedFolicAcidSupplements                   23.4006   4.02e+04      0.001      1.000     -7.88e+04  7.89e+04\n",
       "RecentlyPurchasedPrenatalVitamins                        2.5001      0.816      3.065      0.002         0.901     4.099\n",
       "RecentlyPurchasedPrenatalYogaDVD                        26.4347   8.16e+05   3.24e-05      1.000      -1.6e+06   1.6e+06\n",
       "RecentlyPurchasedBodyPillow                              1.8122      1.843      0.983      0.325        -1.800     5.424\n",
       "RecentlyPurchasedGingerAle                               4.1742      2.403      1.737      0.082        -0.536     8.884\n",
       "RecentlyPurchasedSeaBands                                0.2624      1.286      0.204      0.838        -2.257     2.782\n",
       "PurchasedCigarettesRegularlyUntilRecentlyThenStopped     2.7897      1.564      1.784      0.074        -0.275     5.854\n",
       "RecentlyPurchasedCigarettes                             -2.3201      0.880     -2.636      0.008        -4.045    -0.595\n",
       "RecentlyPurchasedSmokingCessationProducts                2.5043      1.123      2.231      0.026         0.304     4.704\n",
       "PurchasedWineRegularlyUntilRecentlyThenStopped           1.2571      0.682      1.842      0.065        -0.080     2.594\n",
       "RecentlyPurchasedWine                                   -3.6804      1.402     -2.625      0.009        -6.428    -0.933\n",
       "RecentlyPurchasedMaternityClothing                       2.5621      0.749      3.420      0.001         1.094     4.030\n",
       "========================================================================================================================\n",
       "\n",
       "Possibly complete quasi-separation: A fraction 0.13 of observations can be\n",
       "perfectly predicted. This might indicate that there is complete\n",
       "quasi-separation. In this case some parameters will not be identified.\n",
       "\"\"\""
      ]
     },
     "execution_count": 93,
     "metadata": {},
     "output_type": "execute_result"
    }
   ],
   "source": [
    "result.summary()"
   ]
  },
  {
   "cell_type": "code",
   "execution_count": 184,
   "metadata": {},
   "outputs": [
    {
     "data": {
      "text/plain": [
       "0.8582677165354331"
      ]
     },
     "execution_count": 184,
     "metadata": {},
     "output_type": "execute_result"
    }
   ],
   "source": [
    "sum((result.predict(df[df.columns[:-1]]) > 0.5) == df.IsPregnant)/len(df.IsPregnant)\n"
   ]
  },
  {
   "cell_type": "code",
   "execution_count": 197,
   "metadata": {
    "collapsed": true
   },
   "outputs": [],
   "source": [
    "X = df[['RecentlyPurchasedPregnancyTest','RecentlyPurchasedBirthControl','RecentlyPurchasedFeminineHygieneProducts','RecentlyPurchasedPrenatalVitamins','RecentlyPurchasedSmokingCessationProducts','RecentlyPurchasedMaternityClothing']]"
   ]
  },
  {
   "cell_type": "code",
   "execution_count": 198,
   "metadata": {
    "collapsed": true
   },
   "outputs": [],
   "source": [
    "y = df['IsPregnant']"
   ]
  },
  {
   "cell_type": "code",
   "execution_count": 191,
   "metadata": {},
   "outputs": [],
   "source": []
  },
  {
   "cell_type": "code",
   "execution_count": 199,
   "metadata": {},
   "outputs": [],
   "source": [
    "newlogit = sm.Logit(y,X)"
   ]
  },
  {
   "cell_type": "code",
   "execution_count": 205,
   "metadata": {},
   "outputs": [
    {
     "name": "stdout",
     "output_type": "stream",
     "text": [
      "Optimization terminated successfully.\n",
      "         Current function value: 0.458697\n",
      "         Iterations 7\n"
     ]
    }
   ],
   "source": [
    "newresult = newlogit.fit()"
   ]
  },
  {
   "cell_type": "code",
   "execution_count": 201,
   "metadata": {},
   "outputs": [
    {
     "data": {
      "text/plain": [
       "RecentlyPurchasedPregnancyTest               2.317868\n",
       "RecentlyPurchasedBirthControl               -2.881011\n",
       "RecentlyPurchasedFeminineHygieneProducts    -2.315541\n",
       "RecentlyPurchasedPrenatalVitamins            2.701472\n",
       "RecentlyPurchasedSmokingCessationProducts    2.487369\n",
       "RecentlyPurchasedMaternityClothing           2.363191\n",
       "dtype: float64"
      ]
     },
     "execution_count": 201,
     "metadata": {},
     "output_type": "execute_result"
    }
   ],
   "source": [
    "newresult.params"
   ]
  },
  {
   "cell_type": "code",
   "execution_count": 212,
   "metadata": {},
   "outputs": [],
   "source": [
    "pred = (newresult.predict(X) > 0.5)"
   ]
  },
  {
   "cell_type": "code",
   "execution_count": 210,
   "metadata": {},
   "outputs": [
    {
     "data": {
      "text/plain": [
       "0.73622047244094491"
      ]
     },
     "execution_count": 210,
     "metadata": {},
     "output_type": "execute_result"
    }
   ],
   "source": [
    "sum((newresult.predict(X) > 0.5).astype(int)==newdf.IsPregnant)/len(y)"
   ]
  },
  {
   "cell_type": "code",
   "execution_count": 213,
   "metadata": {},
   "outputs": [
    {
     "ename": "NameError",
     "evalue": "name 'confusion_matrix' is not defined",
     "output_type": "error",
     "traceback": [
      "\u001b[0;31m---------------------------------------------------------------------------\u001b[0m",
      "\u001b[0;31mNameError\u001b[0m                                 Traceback (most recent call last)",
      "\u001b[0;32m<ipython-input-213-0c34cf432721>\u001b[0m in \u001b[0;36m<module>\u001b[0;34m()\u001b[0m\n\u001b[0;32m----> 1\u001b[0;31m \u001b[0mconfusion_matrix\u001b[0m\u001b[1;33m(\u001b[0m\u001b[0mnewdf\u001b[0m\u001b[1;33m.\u001b[0m\u001b[0mIsPregnant\u001b[0m\u001b[1;33m,\u001b[0m \u001b[0mpreds\u001b[0m\u001b[1;33m)\u001b[0m\u001b[1;33m\u001b[0m\u001b[0m\n\u001b[0m",
      "\u001b[0;31mNameError\u001b[0m: name 'confusion_matrix' is not defined"
     ]
    }
   ],
   "source": [
    "from sklearn.metrics import accuracy_score, precision_score, recall_score, confusion_matrix\n",
    "confusion_matrix(newdf.IsPregnant, preds)"
   ]
  },
  {
   "cell_type": "code",
   "execution_count": null,
   "metadata": {
    "collapsed": true
   },
   "outputs": [],
   "source": []
  }
 ],
 "metadata": {
  "kernelspec": {
   "display_name": "Python 3",
   "language": "python",
   "name": "python3"
  },
  "language_info": {
   "codemirror_mode": {
    "name": "ipython",
    "version": 3
   },
   "file_extension": ".py",
   "mimetype": "text/x-python",
   "name": "python",
   "nbconvert_exporter": "python",
   "pygments_lexer": "ipython3",
   "version": "3.6.0"
  }
 },
 "nbformat": 4,
 "nbformat_minor": 2
}
